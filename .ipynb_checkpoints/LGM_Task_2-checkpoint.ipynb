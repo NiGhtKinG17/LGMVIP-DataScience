{
 "cells": [
  {
   "cell_type": "markdown",
   "id": "b637b188",
   "metadata": {},
   "source": [
    "## LGM Internship Task 2\n",
    "\n",
    "Stock Market Prediction And Forecasting Using Stacked LSTM"
   ]
  },
  {
   "cell_type": "markdown",
   "id": "bd261352",
   "metadata": {},
   "source": [
    "#### In this task we will do stock market prediction using Stack LSTM"
   ]
  },
  {
   "cell_type": "markdown",
   "id": "c2a0e0eb",
   "metadata": {},
   "source": [
    "## Importing important libraries"
   ]
  },
  {
   "cell_type": "code",
   "execution_count": 1,
   "id": "c2f8b4cc",
   "metadata": {},
   "outputs": [],
   "source": [
    "import numpy as np\n",
    "import pandas as pd\n",
    "import matplotlib.pyplot as plt"
   ]
  },
  {
   "cell_type": "markdown",
   "id": "e46d1308",
   "metadata": {},
   "source": [
    "## Reading Dataset"
   ]
  },
  {
   "cell_type": "code",
   "execution_count": 2,
   "id": "f7844528",
   "metadata": {},
   "outputs": [
    {
     "data": {
      "text/html": [
       "<div>\n",
       "<style scoped>\n",
       "    .dataframe tbody tr th:only-of-type {\n",
       "        vertical-align: middle;\n",
       "    }\n",
       "\n",
       "    .dataframe tbody tr th {\n",
       "        vertical-align: top;\n",
       "    }\n",
       "\n",
       "    .dataframe thead th {\n",
       "        text-align: right;\n",
       "    }\n",
       "</style>\n",
       "<table border=\"1\" class=\"dataframe\">\n",
       "  <thead>\n",
       "    <tr style=\"text-align: right;\">\n",
       "      <th></th>\n",
       "      <th>Date</th>\n",
       "      <th>Open</th>\n",
       "      <th>High</th>\n",
       "      <th>Low</th>\n",
       "      <th>Last</th>\n",
       "      <th>Close</th>\n",
       "      <th>Total Trade Quantity</th>\n",
       "      <th>Turnover (Lacs)</th>\n",
       "    </tr>\n",
       "  </thead>\n",
       "  <tbody>\n",
       "    <tr>\n",
       "      <th>0</th>\n",
       "      <td>28-09-2018</td>\n",
       "      <td>234.05</td>\n",
       "      <td>235.95</td>\n",
       "      <td>230.20</td>\n",
       "      <td>233.50</td>\n",
       "      <td>233.75</td>\n",
       "      <td>3069914</td>\n",
       "      <td>7162.35</td>\n",
       "    </tr>\n",
       "    <tr>\n",
       "      <th>1</th>\n",
       "      <td>27-09-2018</td>\n",
       "      <td>234.55</td>\n",
       "      <td>236.80</td>\n",
       "      <td>231.10</td>\n",
       "      <td>233.80</td>\n",
       "      <td>233.25</td>\n",
       "      <td>5082859</td>\n",
       "      <td>11859.95</td>\n",
       "    </tr>\n",
       "    <tr>\n",
       "      <th>2</th>\n",
       "      <td>26-09-2018</td>\n",
       "      <td>240.00</td>\n",
       "      <td>240.00</td>\n",
       "      <td>232.50</td>\n",
       "      <td>235.00</td>\n",
       "      <td>234.25</td>\n",
       "      <td>2240909</td>\n",
       "      <td>5248.60</td>\n",
       "    </tr>\n",
       "    <tr>\n",
       "      <th>3</th>\n",
       "      <td>25-09-2018</td>\n",
       "      <td>233.30</td>\n",
       "      <td>236.75</td>\n",
       "      <td>232.00</td>\n",
       "      <td>236.25</td>\n",
       "      <td>236.10</td>\n",
       "      <td>2349368</td>\n",
       "      <td>5503.90</td>\n",
       "    </tr>\n",
       "    <tr>\n",
       "      <th>4</th>\n",
       "      <td>24-09-2018</td>\n",
       "      <td>233.55</td>\n",
       "      <td>239.20</td>\n",
       "      <td>230.75</td>\n",
       "      <td>234.00</td>\n",
       "      <td>233.30</td>\n",
       "      <td>3423509</td>\n",
       "      <td>7999.55</td>\n",
       "    </tr>\n",
       "  </tbody>\n",
       "</table>\n",
       "</div>"
      ],
      "text/plain": [
       "         Date    Open    High     Low    Last   Close  Total Trade Quantity  \\\n",
       "0  28-09-2018  234.05  235.95  230.20  233.50  233.75               3069914   \n",
       "1  27-09-2018  234.55  236.80  231.10  233.80  233.25               5082859   \n",
       "2  26-09-2018  240.00  240.00  232.50  235.00  234.25               2240909   \n",
       "3  25-09-2018  233.30  236.75  232.00  236.25  236.10               2349368   \n",
       "4  24-09-2018  233.55  239.20  230.75  234.00  233.30               3423509   \n",
       "\n",
       "   Turnover (Lacs)  \n",
       "0          7162.35  \n",
       "1         11859.95  \n",
       "2          5248.60  \n",
       "3          5503.90  \n",
       "4          7999.55  "
      ]
     },
     "execution_count": 2,
     "metadata": {},
     "output_type": "execute_result"
    }
   ],
   "source": [
    "data = pd.read_csv('NSE-TATAGLOBAL.csv')\n",
    "data.head()"
   ]
  },
  {
   "cell_type": "code",
   "execution_count": 3,
   "id": "af160354",
   "metadata": {},
   "outputs": [
    {
     "data": {
      "text/html": [
       "<div>\n",
       "<style scoped>\n",
       "    .dataframe tbody tr th:only-of-type {\n",
       "        vertical-align: middle;\n",
       "    }\n",
       "\n",
       "    .dataframe tbody tr th {\n",
       "        vertical-align: top;\n",
       "    }\n",
       "\n",
       "    .dataframe thead th {\n",
       "        text-align: right;\n",
       "    }\n",
       "</style>\n",
       "<table border=\"1\" class=\"dataframe\">\n",
       "  <thead>\n",
       "    <tr style=\"text-align: right;\">\n",
       "      <th></th>\n",
       "      <th>Date</th>\n",
       "      <th>Open</th>\n",
       "      <th>High</th>\n",
       "      <th>Low</th>\n",
       "      <th>Last</th>\n",
       "      <th>Close</th>\n",
       "      <th>Total Trade Quantity</th>\n",
       "      <th>Turnover (Lacs)</th>\n",
       "    </tr>\n",
       "  </thead>\n",
       "  <tbody>\n",
       "    <tr>\n",
       "      <th>2030</th>\n",
       "      <td>27-07-2010</td>\n",
       "      <td>117.6</td>\n",
       "      <td>119.50</td>\n",
       "      <td>112.00</td>\n",
       "      <td>118.80</td>\n",
       "      <td>118.65</td>\n",
       "      <td>586100</td>\n",
       "      <td>694.98</td>\n",
       "    </tr>\n",
       "    <tr>\n",
       "      <th>2031</th>\n",
       "      <td>26-07-2010</td>\n",
       "      <td>120.1</td>\n",
       "      <td>121.00</td>\n",
       "      <td>117.10</td>\n",
       "      <td>117.10</td>\n",
       "      <td>117.60</td>\n",
       "      <td>658440</td>\n",
       "      <td>780.01</td>\n",
       "    </tr>\n",
       "    <tr>\n",
       "      <th>2032</th>\n",
       "      <td>23-07-2010</td>\n",
       "      <td>121.8</td>\n",
       "      <td>121.95</td>\n",
       "      <td>120.25</td>\n",
       "      <td>120.35</td>\n",
       "      <td>120.65</td>\n",
       "      <td>281312</td>\n",
       "      <td>340.31</td>\n",
       "    </tr>\n",
       "    <tr>\n",
       "      <th>2033</th>\n",
       "      <td>22-07-2010</td>\n",
       "      <td>120.3</td>\n",
       "      <td>122.00</td>\n",
       "      <td>120.25</td>\n",
       "      <td>120.75</td>\n",
       "      <td>120.90</td>\n",
       "      <td>293312</td>\n",
       "      <td>355.17</td>\n",
       "    </tr>\n",
       "    <tr>\n",
       "      <th>2034</th>\n",
       "      <td>21-07-2010</td>\n",
       "      <td>122.1</td>\n",
       "      <td>123.00</td>\n",
       "      <td>121.05</td>\n",
       "      <td>121.10</td>\n",
       "      <td>121.55</td>\n",
       "      <td>658666</td>\n",
       "      <td>803.56</td>\n",
       "    </tr>\n",
       "  </tbody>\n",
       "</table>\n",
       "</div>"
      ],
      "text/plain": [
       "            Date   Open    High     Low    Last   Close  Total Trade Quantity  \\\n",
       "2030  27-07-2010  117.6  119.50  112.00  118.80  118.65                586100   \n",
       "2031  26-07-2010  120.1  121.00  117.10  117.10  117.60                658440   \n",
       "2032  23-07-2010  121.8  121.95  120.25  120.35  120.65                281312   \n",
       "2033  22-07-2010  120.3  122.00  120.25  120.75  120.90                293312   \n",
       "2034  21-07-2010  122.1  123.00  121.05  121.10  121.55                658666   \n",
       "\n",
       "      Turnover (Lacs)  \n",
       "2030           694.98  \n",
       "2031           780.01  \n",
       "2032           340.31  \n",
       "2033           355.17  \n",
       "2034           803.56  "
      ]
     },
     "execution_count": 3,
     "metadata": {},
     "output_type": "execute_result"
    }
   ],
   "source": [
    "data.tail()"
   ]
  },
  {
   "cell_type": "markdown",
   "id": "65412aec",
   "metadata": {},
   "source": [
    "## Sorting data according to date"
   ]
  },
  {
   "cell_type": "code",
   "execution_count": 4,
   "id": "37670b47",
   "metadata": {},
   "outputs": [
    {
     "data": {
      "text/html": [
       "<div>\n",
       "<style scoped>\n",
       "    .dataframe tbody tr th:only-of-type {\n",
       "        vertical-align: middle;\n",
       "    }\n",
       "\n",
       "    .dataframe tbody tr th {\n",
       "        vertical-align: top;\n",
       "    }\n",
       "\n",
       "    .dataframe thead th {\n",
       "        text-align: right;\n",
       "    }\n",
       "</style>\n",
       "<table border=\"1\" class=\"dataframe\">\n",
       "  <thead>\n",
       "    <tr style=\"text-align: right;\">\n",
       "      <th></th>\n",
       "      <th>Date</th>\n",
       "      <th>Open</th>\n",
       "      <th>High</th>\n",
       "      <th>Low</th>\n",
       "      <th>Last</th>\n",
       "      <th>Close</th>\n",
       "      <th>Total Trade Quantity</th>\n",
       "      <th>Turnover (Lacs)</th>\n",
       "    </tr>\n",
       "  </thead>\n",
       "  <tbody>\n",
       "    <tr>\n",
       "      <th>2034</th>\n",
       "      <td>2010-07-21</td>\n",
       "      <td>122.10</td>\n",
       "      <td>123.00</td>\n",
       "      <td>121.05</td>\n",
       "      <td>121.10</td>\n",
       "      <td>121.55</td>\n",
       "      <td>658666</td>\n",
       "      <td>803.56</td>\n",
       "    </tr>\n",
       "    <tr>\n",
       "      <th>2033</th>\n",
       "      <td>2010-07-22</td>\n",
       "      <td>120.30</td>\n",
       "      <td>122.00</td>\n",
       "      <td>120.25</td>\n",
       "      <td>120.75</td>\n",
       "      <td>120.90</td>\n",
       "      <td>293312</td>\n",
       "      <td>355.17</td>\n",
       "    </tr>\n",
       "    <tr>\n",
       "      <th>2032</th>\n",
       "      <td>2010-07-23</td>\n",
       "      <td>121.80</td>\n",
       "      <td>121.95</td>\n",
       "      <td>120.25</td>\n",
       "      <td>120.35</td>\n",
       "      <td>120.65</td>\n",
       "      <td>281312</td>\n",
       "      <td>340.31</td>\n",
       "    </tr>\n",
       "    <tr>\n",
       "      <th>2031</th>\n",
       "      <td>2010-07-26</td>\n",
       "      <td>120.10</td>\n",
       "      <td>121.00</td>\n",
       "      <td>117.10</td>\n",
       "      <td>117.10</td>\n",
       "      <td>117.60</td>\n",
       "      <td>658440</td>\n",
       "      <td>780.01</td>\n",
       "    </tr>\n",
       "    <tr>\n",
       "      <th>2030</th>\n",
       "      <td>2010-07-27</td>\n",
       "      <td>117.60</td>\n",
       "      <td>119.50</td>\n",
       "      <td>112.00</td>\n",
       "      <td>118.80</td>\n",
       "      <td>118.65</td>\n",
       "      <td>586100</td>\n",
       "      <td>694.98</td>\n",
       "    </tr>\n",
       "    <tr>\n",
       "      <th>...</th>\n",
       "      <td>...</td>\n",
       "      <td>...</td>\n",
       "      <td>...</td>\n",
       "      <td>...</td>\n",
       "      <td>...</td>\n",
       "      <td>...</td>\n",
       "      <td>...</td>\n",
       "      <td>...</td>\n",
       "    </tr>\n",
       "    <tr>\n",
       "      <th>4</th>\n",
       "      <td>2018-09-24</td>\n",
       "      <td>233.55</td>\n",
       "      <td>239.20</td>\n",
       "      <td>230.75</td>\n",
       "      <td>234.00</td>\n",
       "      <td>233.30</td>\n",
       "      <td>3423509</td>\n",
       "      <td>7999.55</td>\n",
       "    </tr>\n",
       "    <tr>\n",
       "      <th>3</th>\n",
       "      <td>2018-09-25</td>\n",
       "      <td>233.30</td>\n",
       "      <td>236.75</td>\n",
       "      <td>232.00</td>\n",
       "      <td>236.25</td>\n",
       "      <td>236.10</td>\n",
       "      <td>2349368</td>\n",
       "      <td>5503.90</td>\n",
       "    </tr>\n",
       "    <tr>\n",
       "      <th>2</th>\n",
       "      <td>2018-09-26</td>\n",
       "      <td>240.00</td>\n",
       "      <td>240.00</td>\n",
       "      <td>232.50</td>\n",
       "      <td>235.00</td>\n",
       "      <td>234.25</td>\n",
       "      <td>2240909</td>\n",
       "      <td>5248.60</td>\n",
       "    </tr>\n",
       "    <tr>\n",
       "      <th>1</th>\n",
       "      <td>2018-09-27</td>\n",
       "      <td>234.55</td>\n",
       "      <td>236.80</td>\n",
       "      <td>231.10</td>\n",
       "      <td>233.80</td>\n",
       "      <td>233.25</td>\n",
       "      <td>5082859</td>\n",
       "      <td>11859.95</td>\n",
       "    </tr>\n",
       "    <tr>\n",
       "      <th>0</th>\n",
       "      <td>2018-09-28</td>\n",
       "      <td>234.05</td>\n",
       "      <td>235.95</td>\n",
       "      <td>230.20</td>\n",
       "      <td>233.50</td>\n",
       "      <td>233.75</td>\n",
       "      <td>3069914</td>\n",
       "      <td>7162.35</td>\n",
       "    </tr>\n",
       "  </tbody>\n",
       "</table>\n",
       "<p>2035 rows × 8 columns</p>\n",
       "</div>"
      ],
      "text/plain": [
       "           Date    Open    High     Low    Last   Close  Total Trade Quantity  \\\n",
       "2034 2010-07-21  122.10  123.00  121.05  121.10  121.55                658666   \n",
       "2033 2010-07-22  120.30  122.00  120.25  120.75  120.90                293312   \n",
       "2032 2010-07-23  121.80  121.95  120.25  120.35  120.65                281312   \n",
       "2031 2010-07-26  120.10  121.00  117.10  117.10  117.60                658440   \n",
       "2030 2010-07-27  117.60  119.50  112.00  118.80  118.65                586100   \n",
       "...         ...     ...     ...     ...     ...     ...                   ...   \n",
       "4    2018-09-24  233.55  239.20  230.75  234.00  233.30               3423509   \n",
       "3    2018-09-25  233.30  236.75  232.00  236.25  236.10               2349368   \n",
       "2    2018-09-26  240.00  240.00  232.50  235.00  234.25               2240909   \n",
       "1    2018-09-27  234.55  236.80  231.10  233.80  233.25               5082859   \n",
       "0    2018-09-28  234.05  235.95  230.20  233.50  233.75               3069914   \n",
       "\n",
       "      Turnover (Lacs)  \n",
       "2034           803.56  \n",
       "2033           355.17  \n",
       "2032           340.31  \n",
       "2031           780.01  \n",
       "2030           694.98  \n",
       "...               ...  \n",
       "4             7999.55  \n",
       "3             5503.90  \n",
       "2             5248.60  \n",
       "1            11859.95  \n",
       "0             7162.35  \n",
       "\n",
       "[2035 rows x 8 columns]"
      ]
     },
     "execution_count": 4,
     "metadata": {},
     "output_type": "execute_result"
    }
   ],
   "source": [
    "data['Date'] = pd.to_datetime(data['Date'], dayfirst=True, yearfirst=False) #Converting to date-time format in pandas for sorting in ascending order\n",
    "dataAsc = data.sort_values(by='Date')\n",
    "dataAsc"
   ]
  },
  {
   "cell_type": "code",
   "execution_count": 5,
   "id": "1086dcc5",
   "metadata": {
    "scrolled": false
   },
   "outputs": [
    {
     "data": {
      "text/html": [
       "<div>\n",
       "<style scoped>\n",
       "    .dataframe tbody tr th:only-of-type {\n",
       "        vertical-align: middle;\n",
       "    }\n",
       "\n",
       "    .dataframe tbody tr th {\n",
       "        vertical-align: top;\n",
       "    }\n",
       "\n",
       "    .dataframe thead th {\n",
       "        text-align: right;\n",
       "    }\n",
       "</style>\n",
       "<table border=\"1\" class=\"dataframe\">\n",
       "  <thead>\n",
       "    <tr style=\"text-align: right;\">\n",
       "      <th></th>\n",
       "      <th>Date</th>\n",
       "      <th>Open</th>\n",
       "      <th>High</th>\n",
       "      <th>Low</th>\n",
       "      <th>Last</th>\n",
       "      <th>Close</th>\n",
       "      <th>Total Trade Quantity</th>\n",
       "      <th>Turnover (Lacs)</th>\n",
       "    </tr>\n",
       "  </thead>\n",
       "  <tbody>\n",
       "    <tr>\n",
       "      <th>0</th>\n",
       "      <td>2010-07-21</td>\n",
       "      <td>122.10</td>\n",
       "      <td>123.00</td>\n",
       "      <td>121.05</td>\n",
       "      <td>121.10</td>\n",
       "      <td>121.55</td>\n",
       "      <td>658666</td>\n",
       "      <td>803.56</td>\n",
       "    </tr>\n",
       "    <tr>\n",
       "      <th>1</th>\n",
       "      <td>2010-07-22</td>\n",
       "      <td>120.30</td>\n",
       "      <td>122.00</td>\n",
       "      <td>120.25</td>\n",
       "      <td>120.75</td>\n",
       "      <td>120.90</td>\n",
       "      <td>293312</td>\n",
       "      <td>355.17</td>\n",
       "    </tr>\n",
       "    <tr>\n",
       "      <th>2</th>\n",
       "      <td>2010-07-23</td>\n",
       "      <td>121.80</td>\n",
       "      <td>121.95</td>\n",
       "      <td>120.25</td>\n",
       "      <td>120.35</td>\n",
       "      <td>120.65</td>\n",
       "      <td>281312</td>\n",
       "      <td>340.31</td>\n",
       "    </tr>\n",
       "    <tr>\n",
       "      <th>3</th>\n",
       "      <td>2010-07-26</td>\n",
       "      <td>120.10</td>\n",
       "      <td>121.00</td>\n",
       "      <td>117.10</td>\n",
       "      <td>117.10</td>\n",
       "      <td>117.60</td>\n",
       "      <td>658440</td>\n",
       "      <td>780.01</td>\n",
       "    </tr>\n",
       "    <tr>\n",
       "      <th>4</th>\n",
       "      <td>2010-07-27</td>\n",
       "      <td>117.60</td>\n",
       "      <td>119.50</td>\n",
       "      <td>112.00</td>\n",
       "      <td>118.80</td>\n",
       "      <td>118.65</td>\n",
       "      <td>586100</td>\n",
       "      <td>694.98</td>\n",
       "    </tr>\n",
       "    <tr>\n",
       "      <th>...</th>\n",
       "      <td>...</td>\n",
       "      <td>...</td>\n",
       "      <td>...</td>\n",
       "      <td>...</td>\n",
       "      <td>...</td>\n",
       "      <td>...</td>\n",
       "      <td>...</td>\n",
       "      <td>...</td>\n",
       "    </tr>\n",
       "    <tr>\n",
       "      <th>2030</th>\n",
       "      <td>2018-09-24</td>\n",
       "      <td>233.55</td>\n",
       "      <td>239.20</td>\n",
       "      <td>230.75</td>\n",
       "      <td>234.00</td>\n",
       "      <td>233.30</td>\n",
       "      <td>3423509</td>\n",
       "      <td>7999.55</td>\n",
       "    </tr>\n",
       "    <tr>\n",
       "      <th>2031</th>\n",
       "      <td>2018-09-25</td>\n",
       "      <td>233.30</td>\n",
       "      <td>236.75</td>\n",
       "      <td>232.00</td>\n",
       "      <td>236.25</td>\n",
       "      <td>236.10</td>\n",
       "      <td>2349368</td>\n",
       "      <td>5503.90</td>\n",
       "    </tr>\n",
       "    <tr>\n",
       "      <th>2032</th>\n",
       "      <td>2018-09-26</td>\n",
       "      <td>240.00</td>\n",
       "      <td>240.00</td>\n",
       "      <td>232.50</td>\n",
       "      <td>235.00</td>\n",
       "      <td>234.25</td>\n",
       "      <td>2240909</td>\n",
       "      <td>5248.60</td>\n",
       "    </tr>\n",
       "    <tr>\n",
       "      <th>2033</th>\n",
       "      <td>2018-09-27</td>\n",
       "      <td>234.55</td>\n",
       "      <td>236.80</td>\n",
       "      <td>231.10</td>\n",
       "      <td>233.80</td>\n",
       "      <td>233.25</td>\n",
       "      <td>5082859</td>\n",
       "      <td>11859.95</td>\n",
       "    </tr>\n",
       "    <tr>\n",
       "      <th>2034</th>\n",
       "      <td>2018-09-28</td>\n",
       "      <td>234.05</td>\n",
       "      <td>235.95</td>\n",
       "      <td>230.20</td>\n",
       "      <td>233.50</td>\n",
       "      <td>233.75</td>\n",
       "      <td>3069914</td>\n",
       "      <td>7162.35</td>\n",
       "    </tr>\n",
       "  </tbody>\n",
       "</table>\n",
       "<p>2035 rows × 8 columns</p>\n",
       "</div>"
      ],
      "text/plain": [
       "           Date    Open    High     Low    Last   Close  Total Trade Quantity  \\\n",
       "0    2010-07-21  122.10  123.00  121.05  121.10  121.55                658666   \n",
       "1    2010-07-22  120.30  122.00  120.25  120.75  120.90                293312   \n",
       "2    2010-07-23  121.80  121.95  120.25  120.35  120.65                281312   \n",
       "3    2010-07-26  120.10  121.00  117.10  117.10  117.60                658440   \n",
       "4    2010-07-27  117.60  119.50  112.00  118.80  118.65                586100   \n",
       "...         ...     ...     ...     ...     ...     ...                   ...   \n",
       "2030 2018-09-24  233.55  239.20  230.75  234.00  233.30               3423509   \n",
       "2031 2018-09-25  233.30  236.75  232.00  236.25  236.10               2349368   \n",
       "2032 2018-09-26  240.00  240.00  232.50  235.00  234.25               2240909   \n",
       "2033 2018-09-27  234.55  236.80  231.10  233.80  233.25               5082859   \n",
       "2034 2018-09-28  234.05  235.95  230.20  233.50  233.75               3069914   \n",
       "\n",
       "      Turnover (Lacs)  \n",
       "0              803.56  \n",
       "1              355.17  \n",
       "2              340.31  \n",
       "3              780.01  \n",
       "4              694.98  \n",
       "...               ...  \n",
       "2030          7999.55  \n",
       "2031          5503.90  \n",
       "2032          5248.60  \n",
       "2033         11859.95  \n",
       "2034          7162.35  \n",
       "\n",
       "[2035 rows x 8 columns]"
      ]
     },
     "execution_count": 5,
     "metadata": {},
     "output_type": "execute_result"
    }
   ],
   "source": [
    "#Reset the index of our data\n",
    "dataAsc.reset_index(inplace=True)\n",
    "dataAsc.drop('index', axis='columns', inplace=True)\n",
    "dataAsc"
   ]
  },
  {
   "cell_type": "markdown",
   "id": "f96084f2",
   "metadata": {},
   "source": [
    "## Plotting Closing Data"
   ]
  },
  {
   "cell_type": "markdown",
   "id": "c94be78f",
   "metadata": {},
   "source": [
    "To visualize the analysis of stock market we will plot the closing data"
   ]
  },
  {
   "cell_type": "code",
   "execution_count": 6,
   "id": "550be4bc",
   "metadata": {},
   "outputs": [
    {
     "data": {
      "text/plain": [
       "[<matplotlib.lines.Line2D at 0x25165ff1340>]"
      ]
     },
     "execution_count": 6,
     "metadata": {},
     "output_type": "execute_result"
    },
    {
     "data": {
      "image/png": "[encoded data removed]",
      "text/plain": [
       "<Figure size 936x504 with 1 Axes>"
      ]
     },
     "metadata": {
      "needs_background": "light"
     },
     "output_type": "display_data"
    }
   ],
   "source": [
    "plt.figure(figsize=(13,7))\n",
    "plt.plot(dataAsc['Close'])"
   ]
  },
  {
   "cell_type": "markdown",
   "id": "1ce9e5b6",
   "metadata": {},
   "source": [
    "## Checking for null values in data"
   ]
  },
  {
   "cell_type": "code",
   "execution_count": 7,
   "id": "2b6d638a",
   "metadata": {},
   "outputs": [
    {
     "data": {
      "text/plain": [
       "Date                    0\n",
       "Open                    0\n",
       "High                    0\n",
       "Low                     0\n",
       "Last                    0\n",
       "Close                   0\n",
       "Total Trade Quantity    0\n",
       "Turnover (Lacs)         0\n",
       "dtype: int64"
      ]
     },
     "execution_count": 7,
     "metadata": {},
     "output_type": "execute_result"
    }
   ],
   "source": [
    "dataAsc.isnull().sum()"
   ]
  },
  {
   "cell_type": "markdown",
   "id": "bab66c15",
   "metadata": {},
   "source": [
    "Luckily we don't have any missing values in our data so we are good to go and prepare the data"
   ]
  },
  {
   "cell_type": "markdown",
   "id": "5d0e4641",
   "metadata": {},
   "source": [
    "## Scaling the data"
   ]
  },
  {
   "cell_type": "markdown",
   "id": "1961640c",
   "metadata": {},
   "source": [
    "For giving the data to LSTM, first we need to scale the data between specific range which we generally keep from 0 to 1. We will do this with the help of minmax scaler from sklearn module"
   ]
  },
  {
   "cell_type": "code",
   "execution_count": 8,
   "id": "7581d8df",
   "metadata": {},
   "outputs": [
    {
     "data": {
      "text/plain": [
       "array([[0.16584967],\n",
       "       [0.16319444],\n",
       "       [0.1621732 ],\n",
       "       ...,\n",
       "       [0.62622549],\n",
       "       [0.62214052],\n",
       "       [0.62418301]])"
      ]
     },
     "execution_count": 8,
     "metadata": {},
     "output_type": "execute_result"
    }
   ],
   "source": [
    "#First we will seperate the close column from our dataset and then scale it after converting it to numpy array\n",
    "dataClose = dataAsc['Close']\n",
    "\n",
    "from sklearn.preprocessing import MinMaxScaler\n",
    "scaler = MinMaxScaler(feature_range=(0,1))\n",
    "dataClose = scaler.fit_transform(np.array(dataClose).reshape(-1,1))\n",
    "dataClose"
   ]
  },
  {
   "cell_type": "markdown",
   "id": "007bd7c3",
   "metadata": {},
   "source": [
    "### Splitting data into train and test data"
   ]
  },
  {
   "cell_type": "code",
   "execution_count": 9,
   "id": "c1eac4ae",
   "metadata": {},
   "outputs": [
    {
     "name": "stdout",
     "output_type": "stream",
     "text": [
      "1424\n",
      "611\n"
     ]
    }
   ],
   "source": [
    "train_size = int(len(dataClose)*0.7)\n",
    "train_data = dataClose[:train_size]\n",
    "test_data = dataClose[train_size:]\n",
    "print(len(train_data))\n",
    "print(len(test_data))"
   ]
  },
  {
   "cell_type": "markdown",
   "id": "29dfd74d",
   "metadata": {},
   "source": [
    "### Data preprocessing\n",
    "\n",
    "In this we will create a function that will create our data to be ready to give to LSTM. In this we will take first 99 close values and give it as input and 100th value as output value for training and similarly we will do for 99 values from second value and give 101th value as output and so on we will keep increasing our starting value by 1. In simple words we suppose we want to find the price for 100th day then we will give 99 values before 100th value to the input and if we want the 105th day price then we will give 99 values before the 105th value to train and predict the output of 105th value."
   ]
  },
  {
   "cell_type": "code",
   "execution_count": 10,
   "id": "8a3980ab",
   "metadata": {},
   "outputs": [],
   "source": [
    "def data_preprocess(data,ts):\n",
    "    xdata, ydata = [], []\n",
    "    for i in range(len(data)-ts-1):\n",
    "        xdata.append(data[i:i+ts])\n",
    "        ydata.append(data[i+ts])\n",
    "    return np.array(xdata), np.array(ydata)"
   ]
  },
  {
   "cell_type": "code",
   "execution_count": 11,
   "id": "6416f836",
   "metadata": {},
   "outputs": [
    {
     "name": "stdout",
     "output_type": "stream",
     "text": [
      "(1273, 150, 1) (1273, 1)\n"
     ]
    }
   ],
   "source": [
    "#We will 150 timesteps for training our model\n",
    "xTrain, yTrain = data_preprocess(train_data, 150)\n",
    "xTest, yTest = data_preprocess(test_data, 150)\n",
    "print(xTrain.shape, yTrain.shape)"
   ]
  },
  {
   "cell_type": "code",
   "execution_count": 12,
   "id": "5018ca34",
   "metadata": {},
   "outputs": [
    {
     "data": {
      "text/plain": [
       "array([[[0.16584967],\n",
       "        [0.16319444],\n",
       "        [0.1621732 ],\n",
       "        ...,\n",
       "        [0.08455882],\n",
       "        [0.05535131],\n",
       "        [0.0620915 ]],\n",
       "\n",
       "       [[0.16319444],\n",
       "        [0.1621732 ],\n",
       "        [0.14971405],\n",
       "        ...,\n",
       "        [0.05535131],\n",
       "        [0.0620915 ],\n",
       "        [0.06311275]],\n",
       "\n",
       "       [[0.1621732 ],\n",
       "        [0.14971405],\n",
       "        [0.15400327],\n",
       "        ...,\n",
       "        [0.0620915 ],\n",
       "        [0.06311275],\n",
       "        [0.05861928]],\n",
       "\n",
       "       ...,\n",
       "\n",
       "       [[0.14848856],\n",
       "        [0.14460784],\n",
       "        [0.15196078],\n",
       "        ...,\n",
       "        [0.16441993],\n",
       "        [0.15236928],\n",
       "        [0.15482026]],\n",
       "\n",
       "       [[0.14460784],\n",
       "        [0.15196078],\n",
       "        [0.15788399],\n",
       "        ...,\n",
       "        [0.15236928],\n",
       "        [0.15482026],\n",
       "        [0.15420752]],\n",
       "\n",
       "       [[0.15196078],\n",
       "        [0.15788399],\n",
       "        [0.13991013],\n",
       "        ...,\n",
       "        [0.15482026],\n",
       "        [0.15420752],\n",
       "        [0.15012255]]])"
      ]
     },
     "execution_count": 12,
     "metadata": {},
     "output_type": "execute_result"
    }
   ],
   "source": [
    "xTrain"
   ]
  },
  {
   "cell_type": "code",
   "execution_count": 13,
   "id": "325360a3",
   "metadata": {},
   "outputs": [
    {
     "data": {
      "text/plain": [
       "array([[0.06311275],\n",
       "       [0.05861928],\n",
       "       [0.02634804],\n",
       "       ...,\n",
       "       [0.15420752],\n",
       "       [0.15012255],\n",
       "       [0.15747549]])"
      ]
     },
     "execution_count": 13,
     "metadata": {},
     "output_type": "execute_result"
    }
   ],
   "source": [
    "yTrain"
   ]
  },
  {
   "cell_type": "markdown",
   "id": "db043d1e",
   "metadata": {},
   "source": [
    "## Creating LSTM Model"
   ]
  },
  {
   "cell_type": "code",
   "execution_count": 14,
   "id": "c805a7cc",
   "metadata": {},
   "outputs": [],
   "source": [
    "from tensorflow.keras.models import Sequential\n",
    "from tensorflow.keras.layers import Dense, Dropout, LSTM"
   ]
  },
  {
   "cell_type": "code",
   "execution_count": 15,
   "id": "b79f558b",
   "metadata": {},
   "outputs": [
    {
     "name": "stdout",
     "output_type": "stream",
     "text": [
      "Model: \"sequential\"\n",
      "_________________________________________________________________\n",
      " Layer (type)                Output Shape              Param #   \n",
      "=================================================================\n",
      " lstm (LSTM)                 (None, 150, 70)           20160     \n",
      "                                                                 \n",
      " lstm_1 (LSTM)               (None, 150, 60)           31440     \n",
      "                                                                 \n",
      " dropout (Dropout)           (None, 150, 60)           0         \n",
      "                                                                 \n",
      " lstm_2 (LSTM)               (None, 50)                22200     \n",
      "                                                                 \n",
      " dense (Dense)               (None, 1)                 51        \n",
      "                                                                 \n",
      "=================================================================\n",
      "Total params: 73,851\n",
      "Trainable params: 73,851\n",
      "Non-trainable params: 0\n",
      "_________________________________________________________________\n"
     ]
    }
   ],
   "source": [
    "model = Sequential()\n",
    "model.add(LSTM(70, return_sequences=True, input_shape=(150,1)))\n",
    "model.add(LSTM(60, return_sequences=True))\n",
    "model.add(Dropout(0.2))\n",
    "model.add(LSTM(50))\n",
    "model.add(Dense(1))\n",
    "model.compile(loss=\"mean_squared_error\", optimizer=\"adam\")\n",
    "model.summary()"
   ]
  },
  {
   "cell_type": "markdown",
   "id": "c4f45388",
   "metadata": {},
   "source": [
    "## Training Our Data"
   ]
  },
  {
   "cell_type": "code",
   "execution_count": 16,
   "id": "5a35edfe",
   "metadata": {},
   "outputs": [
    {
     "name": "stdout",
     "output_type": "stream",
     "text": [
      "Epoch 1/100\n",
      "20/20 [==============================] - 23s 719ms/step - loss: 0.0096 - val_loss: 0.0184\n",
      "Epoch 2/100\n",
      "20/20 [==============================] - 12s 599ms/step - loss: 0.0016 - val_loss: 0.0041\n",
      "Epoch 3/100\n",
      "20/20 [==============================] - 12s 594ms/step - loss: 9.6765e-04 - val_loss: 0.0038\n",
      "Epoch 4/100\n",
      "20/20 [==============================] - 12s 591ms/step - loss: 8.8520e-04 - val_loss: 0.0042\n",
      "Epoch 5/100\n",
      "20/20 [==============================] - 12s 596ms/step - loss: 8.6010e-04 - val_loss: 0.0038\n",
      "Epoch 6/100\n",
      "20/20 [==============================] - 12s 599ms/step - loss: 8.6388e-04 - val_loss: 0.0038\n",
      "Epoch 7/100\n",
      "20/20 [==============================] - 12s 598ms/step - loss: 8.0652e-04 - val_loss: 0.0034\n",
      "Epoch 8/100\n",
      "20/20 [==============================] - 11s 565ms/step - loss: 7.9967e-04 - val_loss: 0.0041\n",
      "Epoch 9/100\n",
      "20/20 [==============================] - 12s 595ms/step - loss: 7.4751e-04 - val_loss: 0.0045\n",
      "Epoch 10/100\n",
      "20/20 [==============================] - 12s 602ms/step - loss: 7.1780e-04 - val_loss: 0.0055\n",
      "Epoch 11/100\n",
      "20/20 [==============================] - 12s 582ms/step - loss: 7.7708e-04 - val_loss: 0.0030\n",
      "Epoch 12/100\n",
      "20/20 [==============================] - 12s 598ms/step - loss: 6.9950e-04 - val_loss: 0.0030\n",
      "Epoch 13/100\n",
      "20/20 [==============================] - 12s 602ms/step - loss: 6.9239e-04 - val_loss: 0.0039\n",
      "Epoch 14/100\n",
      "20/20 [==============================] - 12s 593ms/step - loss: 6.4176e-04 - val_loss: 0.0043\n",
      "Epoch 15/100\n",
      "20/20 [==============================] - 12s 601ms/step - loss: 6.5843e-04 - val_loss: 0.0032\n",
      "Epoch 16/100\n",
      "20/20 [==============================] - 12s 597ms/step - loss: 6.0889e-04 - val_loss: 0.0069\n",
      "Epoch 17/100\n",
      "20/20 [==============================] - 12s 595ms/step - loss: 5.9760e-04 - val_loss: 0.0058\n",
      "Epoch 18/100\n",
      "20/20 [==============================] - 12s 601ms/step - loss: 5.7313e-04 - val_loss: 0.0037\n",
      "Epoch 19/100\n",
      "20/20 [==============================] - 12s 594ms/step - loss: 5.9474e-04 - val_loss: 0.0059\n",
      "Epoch 20/100\n",
      "20/20 [==============================] - 12s 596ms/step - loss: 5.7092e-04 - val_loss: 0.0043\n",
      "Epoch 21/100\n",
      "20/20 [==============================] - 12s 593ms/step - loss: 5.4183e-04 - val_loss: 0.0040\n",
      "Epoch 22/100\n",
      "20/20 [==============================] - 12s 599ms/step - loss: 5.0489e-04 - val_loss: 0.0079\n",
      "Epoch 23/100\n",
      "20/20 [==============================] - 12s 596ms/step - loss: 5.1114e-04 - val_loss: 0.0038\n",
      "Epoch 24/100\n",
      "20/20 [==============================] - 12s 593ms/step - loss: 4.9247e-04 - val_loss: 0.0048\n",
      "Epoch 25/100\n",
      "20/20 [==============================] - 12s 594ms/step - loss: 5.0256e-04 - val_loss: 0.0075\n",
      "Epoch 26/100\n",
      "20/20 [==============================] - 12s 597ms/step - loss: 4.7521e-04 - val_loss: 0.0028\n",
      "Epoch 27/100\n",
      "20/20 [==============================] - 12s 595ms/step - loss: 4.5561e-04 - val_loss: 0.0073\n",
      "Epoch 28/100\n",
      "20/20 [==============================] - 12s 602ms/step - loss: 4.8978e-04 - val_loss: 0.0068\n",
      "Epoch 29/100\n",
      "20/20 [==============================] - 12s 591ms/step - loss: 4.7116e-04 - val_loss: 0.0027\n",
      "Epoch 30/100\n",
      "20/20 [==============================] - 12s 600ms/step - loss: 4.6094e-04 - val_loss: 0.0044\n",
      "Epoch 31/100\n",
      "20/20 [==============================] - 12s 595ms/step - loss: 3.9724e-04 - val_loss: 0.0042\n",
      "Epoch 32/100\n",
      "20/20 [==============================] - 12s 592ms/step - loss: 4.0580e-04 - val_loss: 0.0047\n",
      "Epoch 33/100\n",
      "20/20 [==============================] - 12s 591ms/step - loss: 3.9594e-04 - val_loss: 0.0034\n",
      "Epoch 34/100\n",
      "20/20 [==============================] - 12s 580ms/step - loss: 3.5863e-04 - val_loss: 0.0035\n",
      "Epoch 35/100\n",
      "20/20 [==============================] - 12s 592ms/step - loss: 3.7071e-04 - val_loss: 0.0032\n",
      "Epoch 36/100\n",
      "20/20 [==============================] - 12s 596ms/step - loss: 3.6678e-04 - val_loss: 0.0036\n",
      "Epoch 37/100\n",
      "20/20 [==============================] - 12s 585ms/step - loss: 3.3801e-04 - val_loss: 0.0027\n",
      "Epoch 38/100\n",
      "20/20 [==============================] - 12s 595ms/step - loss: 3.4710e-04 - val_loss: 0.0042\n",
      "Epoch 39/100\n",
      "20/20 [==============================] - 12s 601ms/step - loss: 3.3298e-04 - val_loss: 0.0046\n",
      "Epoch 40/100\n",
      "20/20 [==============================] - 12s 599ms/step - loss: 3.4093e-04 - val_loss: 0.0049\n",
      "Epoch 41/100\n",
      "20/20 [==============================] - 12s 596ms/step - loss: 3.3227e-04 - val_loss: 0.0041\n",
      "Epoch 42/100\n",
      "20/20 [==============================] - 12s 587ms/step - loss: 3.0581e-04 - val_loss: 0.0036\n",
      "Epoch 43/100\n",
      "20/20 [==============================] - 12s 599ms/step - loss: 2.9655e-04 - val_loss: 0.0023\n",
      "Epoch 44/100\n",
      "20/20 [==============================] - 12s 594ms/step - loss: 2.9865e-04 - val_loss: 0.0019\n",
      "Epoch 45/100\n",
      "20/20 [==============================] - 12s 601ms/step - loss: 2.9621e-04 - val_loss: 0.0027\n",
      "Epoch 46/100\n",
      "20/20 [==============================] - 12s 594ms/step - loss: 2.9357e-04 - val_loss: 0.0023\n",
      "Epoch 47/100\n",
      "20/20 [==============================] - 12s 579ms/step - loss: 2.8400e-04 - val_loss: 0.0027\n",
      "Epoch 48/100\n",
      "20/20 [==============================] - 12s 602ms/step - loss: 2.6909e-04 - val_loss: 0.0019\n",
      "Epoch 49/100\n",
      "20/20 [==============================] - 12s 597ms/step - loss: 2.6806e-04 - val_loss: 0.0037\n",
      "Epoch 50/100\n",
      "20/20 [==============================] - 12s 591ms/step - loss: 2.9252e-04 - val_loss: 0.0036\n",
      "Epoch 51/100\n",
      "20/20 [==============================] - 12s 601ms/step - loss: 2.7246e-04 - val_loss: 0.0041\n",
      "Epoch 52/100\n",
      "20/20 [==============================] - 12s 592ms/step - loss: 2.9851e-04 - val_loss: 0.0040\n",
      "Epoch 53/100\n",
      "20/20 [==============================] - 12s 603ms/step - loss: 2.8989e-04 - val_loss: 0.0029\n",
      "Epoch 54/100\n",
      "20/20 [==============================] - 11s 571ms/step - loss: 2.5531e-04 - val_loss: 0.0022\n",
      "Epoch 55/100\n",
      "20/20 [==============================] - 12s 595ms/step - loss: 2.4939e-04 - val_loss: 0.0013\n",
      "Epoch 56/100\n",
      "20/20 [==============================] - 12s 595ms/step - loss: 2.9786e-04 - val_loss: 7.5947e-04\n",
      "Epoch 57/100\n",
      "20/20 [==============================] - 12s 596ms/step - loss: 2.9780e-04 - val_loss: 0.0033\n",
      "Epoch 58/100\n",
      "20/20 [==============================] - 12s 598ms/step - loss: 2.4604e-04 - val_loss: 0.0032\n",
      "Epoch 59/100\n",
      "20/20 [==============================] - 11s 568ms/step - loss: 2.2871e-04 - val_loss: 0.0018\n",
      "Epoch 60/100\n",
      "20/20 [==============================] - 12s 590ms/step - loss: 2.0296e-04 - val_loss: 0.0022\n",
      "Epoch 61/100\n",
      "20/20 [==============================] - 12s 590ms/step - loss: 2.0761e-04 - val_loss: 0.0024\n",
      "Epoch 62/100\n",
      "20/20 [==============================] - 12s 596ms/step - loss: 1.9982e-04 - val_loss: 0.0032\n",
      "Epoch 63/100\n",
      "20/20 [==============================] - 11s 582ms/step - loss: 2.0778e-04 - val_loss: 0.0027\n",
      "Epoch 64/100\n",
      "20/20 [==============================] - 12s 594ms/step - loss: 2.0741e-04 - val_loss: 0.0022\n",
      "Epoch 65/100\n",
      "20/20 [==============================] - 12s 595ms/step - loss: 2.0251e-04 - val_loss: 0.0015\n",
      "Epoch 66/100\n",
      "20/20 [==============================] - 12s 596ms/step - loss: 1.9175e-04 - val_loss: 0.0014\n",
      "Epoch 67/100\n",
      "20/20 [==============================] - 12s 601ms/step - loss: 2.1305e-04 - val_loss: 0.0019\n",
      "Epoch 68/100\n",
      "20/20 [==============================] - 12s 592ms/step - loss: 1.9575e-04 - val_loss: 0.0021\n",
      "Epoch 69/100\n",
      "20/20 [==============================] - 12s 602ms/step - loss: 1.9768e-04 - val_loss: 0.0011\n",
      "Epoch 70/100\n",
      "20/20 [==============================] - 12s 596ms/step - loss: 1.8291e-04 - val_loss: 0.0012\n",
      "Epoch 71/100\n",
      "20/20 [==============================] - 12s 595ms/step - loss: 1.8639e-04 - val_loss: 0.0016\n",
      "Epoch 72/100\n",
      "20/20 [==============================] - 12s 590ms/step - loss: 1.8731e-04 - val_loss: 0.0023\n",
      "Epoch 73/100\n",
      "20/20 [==============================] - 12s 597ms/step - loss: 1.9100e-04 - val_loss: 0.0017\n",
      "Epoch 74/100\n",
      "20/20 [==============================] - 12s 589ms/step - loss: 1.8924e-04 - val_loss: 9.9083e-04\n",
      "Epoch 75/100\n",
      "20/20 [==============================] - 12s 588ms/step - loss: 1.8881e-04 - val_loss: 0.0012\n",
      "Epoch 76/100\n",
      "20/20 [==============================] - 12s 600ms/step - loss: 1.7734e-04 - val_loss: 0.0019\n",
      "Epoch 77/100\n"
     ]
    },
    {
     "name": "stdout",
     "output_type": "stream",
     "text": [
      "20/20 [==============================] - 12s 598ms/step - loss: 1.6426e-04 - val_loss: 0.0016\n",
      "Epoch 78/100\n",
      "20/20 [==============================] - 12s 581ms/step - loss: 1.7609e-04 - val_loss: 0.0013\n",
      "Epoch 79/100\n",
      "20/20 [==============================] - 12s 592ms/step - loss: 1.7056e-04 - val_loss: 0.0014\n",
      "Epoch 80/100\n",
      "20/20 [==============================] - 12s 585ms/step - loss: 1.6776e-04 - val_loss: 6.9336e-04\n",
      "Epoch 81/100\n",
      "20/20 [==============================] - 12s 601ms/step - loss: 1.9255e-04 - val_loss: 0.0023\n",
      "Epoch 82/100\n",
      "20/20 [==============================] - 12s 601ms/step - loss: 1.7074e-04 - val_loss: 0.0018\n",
      "Epoch 83/100\n",
      "20/20 [==============================] - 12s 593ms/step - loss: 1.8983e-04 - val_loss: 0.0014\n",
      "Epoch 84/100\n",
      "20/20 [==============================] - 12s 604ms/step - loss: 1.8921e-04 - val_loss: 0.0025\n",
      "Epoch 85/100\n",
      "20/20 [==============================] - 12s 593ms/step - loss: 1.6378e-04 - val_loss: 0.0015\n",
      "Epoch 86/100\n",
      "20/20 [==============================] - 11s 578ms/step - loss: 1.6668e-04 - val_loss: 7.9507e-04\n",
      "Epoch 87/100\n",
      "20/20 [==============================] - 12s 603ms/step - loss: 1.7059e-04 - val_loss: 0.0017\n",
      "Epoch 88/100\n",
      "20/20 [==============================] - 12s 589ms/step - loss: 1.6441e-04 - val_loss: 0.0020\n",
      "Epoch 89/100\n",
      "20/20 [==============================] - 12s 598ms/step - loss: 1.7570e-04 - val_loss: 0.0016\n",
      "Epoch 90/100\n",
      "20/20 [==============================] - 12s 596ms/step - loss: 1.5904e-04 - val_loss: 0.0016\n",
      "Epoch 91/100\n",
      "20/20 [==============================] - 12s 597ms/step - loss: 1.5352e-04 - val_loss: 0.0011\n",
      "Epoch 92/100\n",
      "20/20 [==============================] - 12s 595ms/step - loss: 1.6097e-04 - val_loss: 0.0014\n",
      "Epoch 93/100\n",
      "20/20 [==============================] - 12s 585ms/step - loss: 1.6523e-04 - val_loss: 0.0023\n",
      "Epoch 94/100\n",
      "20/20 [==============================] - 12s 601ms/step - loss: 1.5801e-04 - val_loss: 0.0020\n",
      "Epoch 95/100\n",
      "20/20 [==============================] - 12s 595ms/step - loss: 1.7719e-04 - val_loss: 0.0019\n",
      "Epoch 96/100\n",
      "20/20 [==============================] - 12s 599ms/step - loss: 1.5821e-04 - val_loss: 0.0010\n",
      "Epoch 97/100\n",
      "20/20 [==============================] - 12s 596ms/step - loss: 1.5839e-04 - val_loss: 9.8944e-04\n",
      "Epoch 98/100\n",
      "20/20 [==============================] - 12s 594ms/step - loss: 1.5645e-04 - val_loss: 7.6004e-04\n",
      "Epoch 99/100\n",
      "20/20 [==============================] - 12s 597ms/step - loss: 1.6112e-04 - val_loss: 0.0011\n",
      "Epoch 100/100\n",
      "20/20 [==============================] - 12s 599ms/step - loss: 1.5651e-04 - val_loss: 0.0014\n"
     ]
    },
    {
     "data": {
      "text/plain": [
       "<keras.callbacks.History at 0x2516feb2460>"
      ]
     },
     "execution_count": 16,
     "metadata": {},
     "output_type": "execute_result"
    }
   ],
   "source": [
    "model.fit(xTrain, yTrain, validation_data=(xTest, yTest), epochs=100, batch_size=64, verbose=1)"
   ]
  },
  {
   "cell_type": "markdown",
   "id": "58547fa1",
   "metadata": {},
   "source": [
    "## Predicting on Train and Test data"
   ]
  },
  {
   "cell_type": "code",
   "execution_count": 17,
   "id": "fb97343e",
   "metadata": {},
   "outputs": [],
   "source": [
    "trainPred = model.predict(xTrain)\n",
    "testPred = model.predict(xTest)"
   ]
  },
  {
   "cell_type": "markdown",
   "id": "d055ea14",
   "metadata": {},
   "source": [
    "The above prediction is in the scaled form which we need to convert into original form."
   ]
  },
  {
   "cell_type": "code",
   "execution_count": 18,
   "id": "1d3f1e33",
   "metadata": {},
   "outputs": [],
   "source": [
    "trainPred = scaler.inverse_transform(trainPred)\n",
    "testPred = scaler.inverse_transform(testPred)"
   ]
  },
  {
   "cell_type": "markdown",
   "id": "23b79c3e",
   "metadata": {},
   "source": [
    "We will now calculate root mean squared error on our predicted data and actual data"
   ]
  },
  {
   "cell_type": "code",
   "execution_count": 19,
   "id": "ea36e47f",
   "metadata": {},
   "outputs": [
    {
     "name": "stdout",
     "output_type": "stream",
     "text": [
      "Train Rmse:  135.15966729716743  Test Rmse:  213.4158486322908\n"
     ]
    }
   ],
   "source": [
    "from sklearn.metrics import mean_squared_error\n",
    "import math\n",
    "rmseTrain = math.sqrt(mean_squared_error(yTrain,trainPred))\n",
    "rmseTest = math.sqrt(mean_squared_error(yTest,testPred))\n",
    "print(\"Train Rmse: \",rmseTrain,\" Test Rmse: \",rmseTest)"
   ]
  },
  {
   "cell_type": "markdown",
   "id": "8f39f05a",
   "metadata": {},
   "source": [
    "## Plotting the predictions"
   ]
  },
  {
   "cell_type": "code",
   "execution_count": 20,
   "id": "a70dfe03",
   "metadata": {},
   "outputs": [
    {
     "data": {
      "text/plain": [
       "[<matplotlib.lines.Line2D at 0x2510149b6d0>]"
      ]
     },
     "execution_count": 20,
     "metadata": {},
     "output_type": "execute_result"
    },
    {
     "data": {
      "image/png": "[encoded data removed]",
      "text/plain": [
       "<Figure size 936x504 with 1 Axes>"
      ]
     },
     "metadata": {
      "needs_background": "light"
     },
     "output_type": "display_data"
    }
   ],
   "source": [
    "#Shifting predicted train data for plotting\n",
    "trainPredPlt = np.empty_like(dataClose)\n",
    "trainPredPlt[:,:] = np.nan\n",
    "trainPredPlt[150:len(trainPred)+150,:] = trainPred\n",
    "\n",
    "#Shifting predicted test data for plotting\n",
    "testPredPlt = np.empty_like(dataClose)\n",
    "testPredPlt[:,:] = np.nan\n",
    "testPredPlt[300+len(trainPred)+1:len(dataClose)-1,:] = testPred\n",
    "\n",
    "plt.figure(figsize=(13,7))\n",
    "plt.plot(dataAsc['Close'])\n",
    "plt.plot(trainPredPlt)\n",
    "plt.plot(testPredPlt)"
   ]
  },
  {
   "cell_type": "markdown",
   "id": "6859c982",
   "metadata": {},
   "source": [
    "We can see our predicted data on trained data and test data on the original data are pretty close. This shows that our stacked LSTM model is performing well."
   ]
  }
 ],
 "metadata": {
  "kernelspec": {
   "display_name": "Python 3 (ipykernel)",
   "language": "python",
   "name": "python3"
  },
  "language_info": {
   "codemirror_mode": {
    "name": "ipython",
    "version": 3
   },
   "file_extension": ".py",
   "mimetype": "text/x-python",
   "name": "python",
   "nbconvert_exporter": "python",
   "pygments_lexer": "ipython3",
   "version": "3.9.7"
  }
 },
 "nbformat": 4,
 "nbformat_minor": 5
}
