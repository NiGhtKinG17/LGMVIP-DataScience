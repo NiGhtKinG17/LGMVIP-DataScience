{
 "cells": [
  {
   "cell_type": "markdown",
   "id": "b637b188",
   "metadata": {},
   "source": [
    "## LGM Internship Task 2\n",
    "\n",
    "Stock Market Prediction And Forecasting Using Stacked LSTM"
   ]
  },
  {
   "cell_type": "markdown",
   "id": "bd261352",
   "metadata": {},
   "source": [
    "#### In this task we will do stock market prediction using Stack LSTM"
   ]
  },
  {
   "cell_type": "markdown",
   "id": "c2a0e0eb",
   "metadata": {},
   "source": [
    "## Importing important libraries"
   ]
  },
  {
   "cell_type": "code",
   "execution_count": 1,
   "id": "c2f8b4cc",
   "metadata": {},
   "outputs": [],
   "source": [
    "import numpy as np\n",
    "import pandas as pd\n",
    "import matplotlib.pyplot as plt"
   ]
  },
  {
   "cell_type": "markdown",
   "id": "e46d1308",
   "metadata": {},
   "source": [
    "## Reading Dataset"
   ]
  },
  {
   "cell_type": "code",
   "execution_count": 2,
   "id": "f7844528",
   "metadata": {},
   "outputs": [
    {
     "data": {
      "text/html": [
       "<div>\n",
       "<style scoped>\n",
       "    .dataframe tbody tr th:only-of-type {\n",
       "        vertical-align: middle;\n",
       "    }\n",
       "\n",
       "    .dataframe tbody tr th {\n",
       "        vertical-align: top;\n",
       "    }\n",
       "\n",
       "    .dataframe thead th {\n",
       "        text-align: right;\n",
       "    }\n",
       "</style>\n",
       "<table border=\"1\" class=\"dataframe\">\n",
       "  <thead>\n",
       "    <tr style=\"text-align: right;\">\n",
       "      <th></th>\n",
       "      <th>Date</th>\n",
       "      <th>Open</th>\n",
       "      <th>High</th>\n",
       "      <th>Low</th>\n",
       "      <th>Last</th>\n",
       "      <th>Close</th>\n",
       "      <th>Total Trade Quantity</th>\n",
       "      <th>Turnover (Lacs)</th>\n",
       "    </tr>\n",
       "  </thead>\n",
       "  <tbody>\n",
       "    <tr>\n",
       "      <th>0</th>\n",
       "      <td>28-09-2018</td>\n",
       "      <td>234.05</td>\n",
       "      <td>235.95</td>\n",
       "      <td>230.20</td>\n",
       "      <td>233.50</td>\n",
       "      <td>233.75</td>\n",
       "      <td>3069914</td>\n",
       "      <td>7162.35</td>\n",
       "    </tr>\n",
       "    <tr>\n",
       "      <th>1</th>\n",
       "      <td>27-09-2018</td>\n",
       "      <td>234.55</td>\n",
       "      <td>236.80</td>\n",
       "      <td>231.10</td>\n",
       "      <td>233.80</td>\n",
       "      <td>233.25</td>\n",
       "      <td>5082859</td>\n",
       "      <td>11859.95</td>\n",
       "    </tr>\n",
       "    <tr>\n",
       "      <th>2</th>\n",
       "      <td>26-09-2018</td>\n",
       "      <td>240.00</td>\n",
       "      <td>240.00</td>\n",
       "      <td>232.50</td>\n",
       "      <td>235.00</td>\n",
       "      <td>234.25</td>\n",
       "      <td>2240909</td>\n",
       "      <td>5248.60</td>\n",
       "    </tr>\n",
       "    <tr>\n",
       "      <th>3</th>\n",
       "      <td>25-09-2018</td>\n",
       "      <td>233.30</td>\n",
       "      <td>236.75</td>\n",
       "      <td>232.00</td>\n",
       "      <td>236.25</td>\n",
       "      <td>236.10</td>\n",
       "      <td>2349368</td>\n",
       "      <td>5503.90</td>\n",
       "    </tr>\n",
       "    <tr>\n",
       "      <th>4</th>\n",
       "      <td>24-09-2018</td>\n",
       "      <td>233.55</td>\n",
       "      <td>239.20</td>\n",
       "      <td>230.75</td>\n",
       "      <td>234.00</td>\n",
       "      <td>233.30</td>\n",
       "      <td>3423509</td>\n",
       "      <td>7999.55</td>\n",
       "    </tr>\n",
       "  </tbody>\n",
       "</table>\n",
       "</div>"
      ],
      "text/plain": [
       "         Date    Open    High     Low    Last   Close  Total Trade Quantity  \\\n",
       "0  28-09-2018  234.05  235.95  230.20  233.50  233.75               3069914   \n",
       "1  27-09-2018  234.55  236.80  231.10  233.80  233.25               5082859   \n",
       "2  26-09-2018  240.00  240.00  232.50  235.00  234.25               2240909   \n",
       "3  25-09-2018  233.30  236.75  232.00  236.25  236.10               2349368   \n",
       "4  24-09-2018  233.55  239.20  230.75  234.00  233.30               3423509   \n",
       "\n",
       "   Turnover (Lacs)  \n",
       "0          7162.35  \n",
       "1         11859.95  \n",
       "2          5248.60  \n",
       "3          5503.90  \n",
       "4          7999.55  "
      ]
     },
     "execution_count": 2,
     "metadata": {},
     "output_type": "execute_result"
    }
   ],
   "source": [
    "data = pd.read_csv('NSE-TATAGLOBAL.csv')\n",
    "data.head()"
   ]
  },
  {
   "cell_type": "code",
   "execution_count": 3,
   "id": "af160354",
   "metadata": {},
   "outputs": [
    {
     "data": {
      "text/html": [
       "<div>\n",
       "<style scoped>\n",
       "    .dataframe tbody tr th:only-of-type {\n",
       "        vertical-align: middle;\n",
       "    }\n",
       "\n",
       "    .dataframe tbody tr th {\n",
       "        vertical-align: top;\n",
       "    }\n",
       "\n",
       "    .dataframe thead th {\n",
       "        text-align: right;\n",
       "    }\n",
       "</style>\n",
       "<table border=\"1\" class=\"dataframe\">\n",
       "  <thead>\n",
       "    <tr style=\"text-align: right;\">\n",
       "      <th></th>\n",
       "      <th>Date</th>\n",
       "      <th>Open</th>\n",
       "      <th>High</th>\n",
       "      <th>Low</th>\n",
       "      <th>Last</th>\n",
       "      <th>Close</th>\n",
       "      <th>Total Trade Quantity</th>\n",
       "      <th>Turnover (Lacs)</th>\n",
       "    </tr>\n",
       "  </thead>\n",
       "  <tbody>\n",
       "    <tr>\n",
       "      <th>2030</th>\n",
       "      <td>27-07-2010</td>\n",
       "      <td>117.6</td>\n",
       "      <td>119.50</td>\n",
       "      <td>112.00</td>\n",
       "      <td>118.80</td>\n",
       "      <td>118.65</td>\n",
       "      <td>586100</td>\n",
       "      <td>694.98</td>\n",
       "    </tr>\n",
       "    <tr>\n",
       "      <th>2031</th>\n",
       "      <td>26-07-2010</td>\n",
       "      <td>120.1</td>\n",
       "      <td>121.00</td>\n",
       "      <td>117.10</td>\n",
       "      <td>117.10</td>\n",
       "      <td>117.60</td>\n",
       "      <td>658440</td>\n",
       "      <td>780.01</td>\n",
       "    </tr>\n",
       "    <tr>\n",
       "      <th>2032</th>\n",
       "      <td>23-07-2010</td>\n",
       "      <td>121.8</td>\n",
       "      <td>121.95</td>\n",
       "      <td>120.25</td>\n",
       "      <td>120.35</td>\n",
       "      <td>120.65</td>\n",
       "      <td>281312</td>\n",
       "      <td>340.31</td>\n",
       "    </tr>\n",
       "    <tr>\n",
       "      <th>2033</th>\n",
       "      <td>22-07-2010</td>\n",
       "      <td>120.3</td>\n",
       "      <td>122.00</td>\n",
       "      <td>120.25</td>\n",
       "      <td>120.75</td>\n",
       "      <td>120.90</td>\n",
       "      <td>293312</td>\n",
       "      <td>355.17</td>\n",
       "    </tr>\n",
       "    <tr>\n",
       "      <th>2034</th>\n",
       "      <td>21-07-2010</td>\n",
       "      <td>122.1</td>\n",
       "      <td>123.00</td>\n",
       "      <td>121.05</td>\n",
       "      <td>121.10</td>\n",
       "      <td>121.55</td>\n",
       "      <td>658666</td>\n",
       "      <td>803.56</td>\n",
       "    </tr>\n",
       "  </tbody>\n",
       "</table>\n",
       "</div>"
      ],
      "text/plain": [
       "            Date   Open    High     Low    Last   Close  Total Trade Quantity  \\\n",
       "2030  27-07-2010  117.6  119.50  112.00  118.80  118.65                586100   \n",
       "2031  26-07-2010  120.1  121.00  117.10  117.10  117.60                658440   \n",
       "2032  23-07-2010  121.8  121.95  120.25  120.35  120.65                281312   \n",
       "2033  22-07-2010  120.3  122.00  120.25  120.75  120.90                293312   \n",
       "2034  21-07-2010  122.1  123.00  121.05  121.10  121.55                658666   \n",
       "\n",
       "      Turnover (Lacs)  \n",
       "2030           694.98  \n",
       "2031           780.01  \n",
       "2032           340.31  \n",
       "2033           355.17  \n",
       "2034           803.56  "
      ]
     },
     "execution_count": 3,
     "metadata": {},
     "output_type": "execute_result"
    }
   ],
   "source": [
    "data.tail()"
   ]
  },
  {
   "cell_type": "markdown",
   "id": "65412aec",
   "metadata": {},
   "source": [
    "## Sorting data according to date"
   ]
  },
  {
   "cell_type": "code",
   "execution_count": 4,
   "id": "37670b47",
   "metadata": {},
   "outputs": [
    {
     "data": {
      "text/html": [
       "<div>\n",
       "<style scoped>\n",
       "    .dataframe tbody tr th:only-of-type {\n",
       "        vertical-align: middle;\n",
       "    }\n",
       "\n",
       "    .dataframe tbody tr th {\n",
       "        vertical-align: top;\n",
       "    }\n",
       "\n",
       "    .dataframe thead th {\n",
       "        text-align: right;\n",
       "    }\n",
       "</style>\n",
       "<table border=\"1\" class=\"dataframe\">\n",
       "  <thead>\n",
       "    <tr style=\"text-align: right;\">\n",
       "      <th></th>\n",
       "      <th>Date</th>\n",
       "      <th>Open</th>\n",
       "      <th>High</th>\n",
       "      <th>Low</th>\n",
       "      <th>Last</th>\n",
       "      <th>Close</th>\n",
       "      <th>Total Trade Quantity</th>\n",
       "      <th>Turnover (Lacs)</th>\n",
       "    </tr>\n",
       "  </thead>\n",
       "  <tbody>\n",
       "    <tr>\n",
       "      <th>2034</th>\n",
       "      <td>2010-07-21</td>\n",
       "      <td>122.10</td>\n",
       "      <td>123.00</td>\n",
       "      <td>121.05</td>\n",
       "      <td>121.10</td>\n",
       "      <td>121.55</td>\n",
       "      <td>658666</td>\n",
       "      <td>803.56</td>\n",
       "    </tr>\n",
       "    <tr>\n",
       "      <th>2033</th>\n",
       "      <td>2010-07-22</td>\n",
       "      <td>120.30</td>\n",
       "      <td>122.00</td>\n",
       "      <td>120.25</td>\n",
       "      <td>120.75</td>\n",
       "      <td>120.90</td>\n",
       "      <td>293312</td>\n",
       "      <td>355.17</td>\n",
       "    </tr>\n",
       "    <tr>\n",
       "      <th>2032</th>\n",
       "      <td>2010-07-23</td>\n",
       "      <td>121.80</td>\n",
       "      <td>121.95</td>\n",
       "      <td>120.25</td>\n",
       "      <td>120.35</td>\n",
       "      <td>120.65</td>\n",
       "      <td>281312</td>\n",
       "      <td>340.31</td>\n",
       "    </tr>\n",
       "    <tr>\n",
       "      <th>2031</th>\n",
       "      <td>2010-07-26</td>\n",
       "      <td>120.10</td>\n",
       "      <td>121.00</td>\n",
       "      <td>117.10</td>\n",
       "      <td>117.10</td>\n",
       "      <td>117.60</td>\n",
       "      <td>658440</td>\n",
       "      <td>780.01</td>\n",
       "    </tr>\n",
       "    <tr>\n",
       "      <th>2030</th>\n",
       "      <td>2010-07-27</td>\n",
       "      <td>117.60</td>\n",
       "      <td>119.50</td>\n",
       "      <td>112.00</td>\n",
       "      <td>118.80</td>\n",
       "      <td>118.65</td>\n",
       "      <td>586100</td>\n",
       "      <td>694.98</td>\n",
       "    </tr>\n",
       "    <tr>\n",
       "      <th>...</th>\n",
       "      <td>...</td>\n",
       "      <td>...</td>\n",
       "      <td>...</td>\n",
       "      <td>...</td>\n",
       "      <td>...</td>\n",
       "      <td>...</td>\n",
       "      <td>...</td>\n",
       "      <td>...</td>\n",
       "    </tr>\n",
       "    <tr>\n",
       "      <th>4</th>\n",
       "      <td>2018-09-24</td>\n",
       "      <td>233.55</td>\n",
       "      <td>239.20</td>\n",
       "      <td>230.75</td>\n",
       "      <td>234.00</td>\n",
       "      <td>233.30</td>\n",
       "      <td>3423509</td>\n",
       "      <td>7999.55</td>\n",
       "    </tr>\n",
       "    <tr>\n",
       "      <th>3</th>\n",
       "      <td>2018-09-25</td>\n",
       "      <td>233.30</td>\n",
       "      <td>236.75</td>\n",
       "      <td>232.00</td>\n",
       "      <td>236.25</td>\n",
       "      <td>236.10</td>\n",
       "      <td>2349368</td>\n",
       "      <td>5503.90</td>\n",
       "    </tr>\n",
       "    <tr>\n",
       "      <th>2</th>\n",
       "      <td>2018-09-26</td>\n",
       "      <td>240.00</td>\n",
       "      <td>240.00</td>\n",
       "      <td>232.50</td>\n",
       "      <td>235.00</td>\n",
       "      <td>234.25</td>\n",
       "      <td>2240909</td>\n",
       "      <td>5248.60</td>\n",
       "    </tr>\n",
       "    <tr>\n",
       "      <th>1</th>\n",
       "      <td>2018-09-27</td>\n",
       "      <td>234.55</td>\n",
       "      <td>236.80</td>\n",
       "      <td>231.10</td>\n",
       "      <td>233.80</td>\n",
       "      <td>233.25</td>\n",
       "      <td>5082859</td>\n",
       "      <td>11859.95</td>\n",
       "    </tr>\n",
       "    <tr>\n",
       "      <th>0</th>\n",
       "      <td>2018-09-28</td>\n",
       "      <td>234.05</td>\n",
       "      <td>235.95</td>\n",
       "      <td>230.20</td>\n",
       "      <td>233.50</td>\n",
       "      <td>233.75</td>\n",
       "      <td>3069914</td>\n",
       "      <td>7162.35</td>\n",
       "    </tr>\n",
       "  </tbody>\n",
       "</table>\n",
       "<p>2035 rows × 8 columns</p>\n",
       "</div>"
      ],
      "text/plain": [
       "           Date    Open    High     Low    Last   Close  Total Trade Quantity  \\\n",
       "2034 2010-07-21  122.10  123.00  121.05  121.10  121.55                658666   \n",
       "2033 2010-07-22  120.30  122.00  120.25  120.75  120.90                293312   \n",
       "2032 2010-07-23  121.80  121.95  120.25  120.35  120.65                281312   \n",
       "2031 2010-07-26  120.10  121.00  117.10  117.10  117.60                658440   \n",
       "2030 2010-07-27  117.60  119.50  112.00  118.80  118.65                586100   \n",
       "...         ...     ...     ...     ...     ...     ...                   ...   \n",
       "4    2018-09-24  233.55  239.20  230.75  234.00  233.30               3423509   \n",
       "3    2018-09-25  233.30  236.75  232.00  236.25  236.10               2349368   \n",
       "2    2018-09-26  240.00  240.00  232.50  235.00  234.25               2240909   \n",
       "1    2018-09-27  234.55  236.80  231.10  233.80  233.25               5082859   \n",
       "0    2018-09-28  234.05  235.95  230.20  233.50  233.75               3069914   \n",
       "\n",
       "      Turnover (Lacs)  \n",
       "2034           803.56  \n",
       "2033           355.17  \n",
       "2032           340.31  \n",
       "2031           780.01  \n",
       "2030           694.98  \n",
       "...               ...  \n",
       "4             7999.55  \n",
       "3             5503.90  \n",
       "2             5248.60  \n",
       "1            11859.95  \n",
       "0             7162.35  \n",
       "\n",
       "[2035 rows x 8 columns]"
      ]
     },
     "execution_count": 4,
     "metadata": {},
     "output_type": "execute_result"
    }
   ],
   "source": [
    "data['Date'] = pd.to_datetime(data['Date'], dayfirst=True, yearfirst=False) #Converting to date-time format in pandas for sorting in ascending order\n",
    "dataAsc = data.sort_values(by='Date')\n",
    "dataAsc"
   ]
  },
  {
   "cell_type": "code",
   "execution_count": 5,
   "id": "1086dcc5",
   "metadata": {
    "scrolled": false
   },
   "outputs": [
    {
     "data": {
      "text/html": [
       "<div>\n",
       "<style scoped>\n",
       "    .dataframe tbody tr th:only-of-type {\n",
       "        vertical-align: middle;\n",
       "    }\n",
       "\n",
       "    .dataframe tbody tr th {\n",
       "        vertical-align: top;\n",
       "    }\n",
       "\n",
       "    .dataframe thead th {\n",
       "        text-align: right;\n",
       "    }\n",
       "</style>\n",
       "<table border=\"1\" class=\"dataframe\">\n",
       "  <thead>\n",
       "    <tr style=\"text-align: right;\">\n",
       "      <th></th>\n",
       "      <th>Date</th>\n",
       "      <th>Open</th>\n",
       "      <th>High</th>\n",
       "      <th>Low</th>\n",
       "      <th>Last</th>\n",
       "      <th>Close</th>\n",
       "      <th>Total Trade Quantity</th>\n",
       "      <th>Turnover (Lacs)</th>\n",
       "    </tr>\n",
       "  </thead>\n",
       "  <tbody>\n",
       "    <tr>\n",
       "      <th>0</th>\n",
       "      <td>2010-07-21</td>\n",
       "      <td>122.10</td>\n",
       "      <td>123.00</td>\n",
       "      <td>121.05</td>\n",
       "      <td>121.10</td>\n",
       "      <td>121.55</td>\n",
       "      <td>658666</td>\n",
       "      <td>803.56</td>\n",
       "    </tr>\n",
       "    <tr>\n",
       "      <th>1</th>\n",
       "      <td>2010-07-22</td>\n",
       "      <td>120.30</td>\n",
       "      <td>122.00</td>\n",
       "      <td>120.25</td>\n",
       "      <td>120.75</td>\n",
       "      <td>120.90</td>\n",
       "      <td>293312</td>\n",
       "      <td>355.17</td>\n",
       "    </tr>\n",
       "    <tr>\n",
       "      <th>2</th>\n",
       "      <td>2010-07-23</td>\n",
       "      <td>121.80</td>\n",
       "      <td>121.95</td>\n",
       "      <td>120.25</td>\n",
       "      <td>120.35</td>\n",
       "      <td>120.65</td>\n",
       "      <td>281312</td>\n",
       "      <td>340.31</td>\n",
       "    </tr>\n",
       "    <tr>\n",
       "      <th>3</th>\n",
       "      <td>2010-07-26</td>\n",
       "      <td>120.10</td>\n",
       "      <td>121.00</td>\n",
       "      <td>117.10</td>\n",
       "      <td>117.10</td>\n",
       "      <td>117.60</td>\n",
       "      <td>658440</td>\n",
       "      <td>780.01</td>\n",
       "    </tr>\n",
       "    <tr>\n",
       "      <th>4</th>\n",
       "      <td>2010-07-27</td>\n",
       "      <td>117.60</td>\n",
       "      <td>119.50</td>\n",
       "      <td>112.00</td>\n",
       "      <td>118.80</td>\n",
       "      <td>118.65</td>\n",
       "      <td>586100</td>\n",
       "      <td>694.98</td>\n",
       "    </tr>\n",
       "    <tr>\n",
       "      <th>...</th>\n",
       "      <td>...</td>\n",
       "      <td>...</td>\n",
       "      <td>...</td>\n",
       "      <td>...</td>\n",
       "      <td>...</td>\n",
       "      <td>...</td>\n",
       "      <td>...</td>\n",
       "      <td>...</td>\n",
       "    </tr>\n",
       "    <tr>\n",
       "      <th>2030</th>\n",
       "      <td>2018-09-24</td>\n",
       "      <td>233.55</td>\n",
       "      <td>239.20</td>\n",
       "      <td>230.75</td>\n",
       "      <td>234.00</td>\n",
       "      <td>233.30</td>\n",
       "      <td>3423509</td>\n",
       "      <td>7999.55</td>\n",
       "    </tr>\n",
       "    <tr>\n",
       "      <th>2031</th>\n",
       "      <td>2018-09-25</td>\n",
       "      <td>233.30</td>\n",
       "      <td>236.75</td>\n",
       "      <td>232.00</td>\n",
       "      <td>236.25</td>\n",
       "      <td>236.10</td>\n",
       "      <td>2349368</td>\n",
       "      <td>5503.90</td>\n",
       "    </tr>\n",
       "    <tr>\n",
       "      <th>2032</th>\n",
       "      <td>2018-09-26</td>\n",
       "      <td>240.00</td>\n",
       "      <td>240.00</td>\n",
       "      <td>232.50</td>\n",
       "      <td>235.00</td>\n",
       "      <td>234.25</td>\n",
       "      <td>2240909</td>\n",
       "      <td>5248.60</td>\n",
       "    </tr>\n",
       "    <tr>\n",
       "      <th>2033</th>\n",
       "      <td>2018-09-27</td>\n",
       "      <td>234.55</td>\n",
       "      <td>236.80</td>\n",
       "      <td>231.10</td>\n",
       "      <td>233.80</td>\n",
       "      <td>233.25</td>\n",
       "      <td>5082859</td>\n",
       "      <td>11859.95</td>\n",
       "    </tr>\n",
       "    <tr>\n",
       "      <th>2034</th>\n",
       "      <td>2018-09-28</td>\n",
       "      <td>234.05</td>\n",
       "      <td>235.95</td>\n",
       "      <td>230.20</td>\n",
       "      <td>233.50</td>\n",
       "      <td>233.75</td>\n",
       "      <td>3069914</td>\n",
       "      <td>7162.35</td>\n",
       "    </tr>\n",
       "  </tbody>\n",
       "</table>\n",
       "<p>2035 rows × 8 columns</p>\n",
       "</div>"
      ],
      "text/plain": [
       "           Date    Open    High     Low    Last   Close  Total Trade Quantity  \\\n",
       "0    2010-07-21  122.10  123.00  121.05  121.10  121.55                658666   \n",
       "1    2010-07-22  120.30  122.00  120.25  120.75  120.90                293312   \n",
       "2    2010-07-23  121.80  121.95  120.25  120.35  120.65                281312   \n",
       "3    2010-07-26  120.10  121.00  117.10  117.10  117.60                658440   \n",
       "4    2010-07-27  117.60  119.50  112.00  118.80  118.65                586100   \n",
       "...         ...     ...     ...     ...     ...     ...                   ...   \n",
       "2030 2018-09-24  233.55  239.20  230.75  234.00  233.30               3423509   \n",
       "2031 2018-09-25  233.30  236.75  232.00  236.25  236.10               2349368   \n",
       "2032 2018-09-26  240.00  240.00  232.50  235.00  234.25               2240909   \n",
       "2033 2018-09-27  234.55  236.80  231.10  233.80  233.25               5082859   \n",
       "2034 2018-09-28  234.05  235.95  230.20  233.50  233.75               3069914   \n",
       "\n",
       "      Turnover (Lacs)  \n",
       "0              803.56  \n",
       "1              355.17  \n",
       "2              340.31  \n",
       "3              780.01  \n",
       "4              694.98  \n",
       "...               ...  \n",
       "2030          7999.55  \n",
       "2031          5503.90  \n",
       "2032          5248.60  \n",
       "2033         11859.95  \n",
       "2034          7162.35  \n",
       "\n",
       "[2035 rows x 8 columns]"
      ]
     },
     "execution_count": 5,
     "metadata": {},
     "output_type": "execute_result"
    }
   ],
   "source": [
    "#Reset the index of our data\n",
    "dataAsc.reset_index(inplace=True)\n",
    "dataAsc.drop('index', axis='columns', inplace=True)\n",
    "dataAsc"
   ]
  },
  {
   "cell_type": "markdown",
   "id": "f96084f2",
   "metadata": {},
   "source": [
    "## Plotting Closing Data"
   ]
  },
  {
   "cell_type": "markdown",
   "id": "c94be78f",
   "metadata": {},
   "source": [
    "To visualize the analysis of stock market we will plot the closing data"
   ]
  },
  {
   "cell_type": "code",
   "execution_count": 6,
   "id": "550be4bc",
   "metadata": {},
   "outputs": [
    {
     "data": {
      "text/plain": [
       "[<matplotlib.lines.Line2D at 0x2297c5af340>]"
      ]
     },
     "execution_count": 6,
     "metadata": {},
     "output_type": "execute_result"
    },
    {
     "data": {
      "image/png": "[encoded data removed]",
      "text/plain": [
       "<Figure size 936x504 with 1 Axes>"
      ]
     },
     "metadata": {
      "needs_background": "light"
     },
     "output_type": "display_data"
    }
   ],
   "source": [
    "plt.figure(figsize=(13,7))\n",
    "plt.plot(dataAsc['Close'])"
   ]
  },
  {
   "cell_type": "markdown",
   "id": "1ce9e5b6",
   "metadata": {},
   "source": [
    "## Checking for null values in data"
   ]
  },
  {
   "cell_type": "code",
   "execution_count": 7,
   "id": "2b6d638a",
   "metadata": {},
   "outputs": [
    {
     "data": {
      "text/plain": [
       "Date                    0\n",
       "Open                    0\n",
       "High                    0\n",
       "Low                     0\n",
       "Last                    0\n",
       "Close                   0\n",
       "Total Trade Quantity    0\n",
       "Turnover (Lacs)         0\n",
       "dtype: int64"
      ]
     },
     "execution_count": 7,
     "metadata": {},
     "output_type": "execute_result"
    }
   ],
   "source": [
    "dataAsc.isnull().sum()"
   ]
  },
  {
   "cell_type": "markdown",
   "id": "bab66c15",
   "metadata": {},
   "source": [
    "Luckily we don't have any missing values in our data so we are good to go and prepare the data"
   ]
  },
  {
   "cell_type": "markdown",
   "id": "5d0e4641",
   "metadata": {},
   "source": [
    "## Scaling the data"
   ]
  },
  {
   "cell_type": "markdown",
   "id": "1961640c",
   "metadata": {},
   "source": [
    "For giving the data to LSTM, first we need to scale the data between specific range which we generally keep from 0 to 1. We will do this with the help of minmax scaler from sklearn module"
   ]
  },
  {
   "cell_type": "code",
   "execution_count": 8,
   "id": "7581d8df",
   "metadata": {},
   "outputs": [
    {
     "data": {
      "text/plain": [
       "array([[0.16584967],\n",
       "       [0.16319444],\n",
       "       [0.1621732 ],\n",
       "       ...,\n",
       "       [0.62622549],\n",
       "       [0.62214052],\n",
       "       [0.62418301]])"
      ]
     },
     "execution_count": 8,
     "metadata": {},
     "output_type": "execute_result"
    }
   ],
   "source": [
    "#First we will seperate the close column from our dataset and then scale it after converting it to numpy array\n",
    "dataClose = dataAsc['Close']\n",
    "\n",
    "from sklearn.preprocessing import MinMaxScaler\n",
    "scaler = MinMaxScaler(feature_range=(0,1))\n",
    "dataClose = scaler.fit_transform(np.array(dataClose).reshape(-1,1))\n",
    "dataClose"
   ]
  },
  {
   "cell_type": "markdown",
   "id": "007bd7c3",
   "metadata": {},
   "source": [
    "### Splitting data into train and test data"
   ]
  },
  {
   "cell_type": "code",
   "execution_count": 9,
   "id": "c1eac4ae",
   "metadata": {},
   "outputs": [
    {
     "name": "stdout",
     "output_type": "stream",
     "text": [
      "1424\n",
      "611\n"
     ]
    }
   ],
   "source": [
    "train_size = int(len(dataClose)*0.7)\n",
    "train_data = dataClose[:train_size]\n",
    "test_data = dataClose[train_size:]\n",
    "print(len(train_data))\n",
    "print(len(test_data))"
   ]
  },
  {
   "cell_type": "markdown",
   "id": "29dfd74d",
   "metadata": {},
   "source": [
    "### Data preprocessing\n",
    "\n",
    "In this we will create a function that will create our data to be ready to give to LSTM. In this we will take first 99 close values and give it as input and 100th value as output value for training and similarly we will do for 99 values from second value and give 101th value as output and so on we will keep increasing our starting value by 1. In simple words we suppose we want to find the price for 100th day then we will give 99 values before 100th value to the input and if we want the 105th day price then we will give 99 values before the 105th value to train and predict the output of 105th value."
   ]
  },
  {
   "cell_type": "code",
   "execution_count": 10,
   "id": "8a3980ab",
   "metadata": {},
   "outputs": [],
   "source": [
    "def data_preprocess(data,ts):\n",
    "    xdata, ydata = [], []\n",
    "    for i in range(len(data)-ts-1):\n",
    "        xdata.append(data[i:i+ts])\n",
    "        ydata.append(data[i+ts])\n",
    "    return np.array(xdata), np.array(ydata)"
   ]
  },
  {
   "cell_type": "code",
   "execution_count": 11,
   "id": "6416f836",
   "metadata": {},
   "outputs": [
    {
     "name": "stdout",
     "output_type": "stream",
     "text": [
      "(1273, 150, 1) (1273, 1)\n"
     ]
    }
   ],
   "source": [
    "#We will 150 timesteps for training our model\n",
    "xTrain, yTrain = data_preprocess(train_data, 150)\n",
    "xTest, yTest = data_preprocess(test_data, 150)\n",
    "print(xTrain.shape, yTrain.shape)"
   ]
  },
  {
   "cell_type": "code",
   "execution_count": 12,
   "id": "5018ca34",
   "metadata": {},
   "outputs": [
    {
     "data": {
      "text/plain": [
       "array([[[0.16584967],\n",
       "        [0.16319444],\n",
       "        [0.1621732 ],\n",
       "        ...,\n",
       "        [0.08455882],\n",
       "        [0.05535131],\n",
       "        [0.0620915 ]],\n",
       "\n",
       "       [[0.16319444],\n",
       "        [0.1621732 ],\n",
       "        [0.14971405],\n",
       "        ...,\n",
       "        [0.05535131],\n",
       "        [0.0620915 ],\n",
       "        [0.06311275]],\n",
       "\n",
       "       [[0.1621732 ],\n",
       "        [0.14971405],\n",
       "        [0.15400327],\n",
       "        ...,\n",
       "        [0.0620915 ],\n",
       "        [0.06311275],\n",
       "        [0.05861928]],\n",
       "\n",
       "       ...,\n",
       "\n",
       "       [[0.14848856],\n",
       "        [0.14460784],\n",
       "        [0.15196078],\n",
       "        ...,\n",
       "        [0.16441993],\n",
       "        [0.15236928],\n",
       "        [0.15482026]],\n",
       "\n",
       "       [[0.14460784],\n",
       "        [0.15196078],\n",
       "        [0.15788399],\n",
       "        ...,\n",
       "        [0.15236928],\n",
       "        [0.15482026],\n",
       "        [0.15420752]],\n",
       "\n",
       "       [[0.15196078],\n",
       "        [0.15788399],\n",
       "        [0.13991013],\n",
       "        ...,\n",
       "        [0.15482026],\n",
       "        [0.15420752],\n",
       "        [0.15012255]]])"
      ]
     },
     "execution_count": 12,
     "metadata": {},
     "output_type": "execute_result"
    }
   ],
   "source": [
    "xTrain"
   ]
  },
  {
   "cell_type": "code",
   "execution_count": 13,
   "id": "325360a3",
   "metadata": {},
   "outputs": [
    {
     "data": {
      "text/plain": [
       "array([[0.06311275],\n",
       "       [0.05861928],\n",
       "       [0.02634804],\n",
       "       ...,\n",
       "       [0.15420752],\n",
       "       [0.15012255],\n",
       "       [0.15747549]])"
      ]
     },
     "execution_count": 13,
     "metadata": {},
     "output_type": "execute_result"
    }
   ],
   "source": [
    "yTrain"
   ]
  },
  {
   "cell_type": "markdown",
   "id": "db043d1e",
   "metadata": {},
   "source": [
    "## Creating LSTM Model"
   ]
  },
  {
   "cell_type": "code",
   "execution_count": 14,
   "id": "c805a7cc",
   "metadata": {},
   "outputs": [],
   "source": [
    "from tensorflow.keras.models import Sequential\n",
    "from tensorflow.keras.layers import Dense, Dropout, LSTM"
   ]
  },
  {
   "cell_type": "code",
   "execution_count": 15,
   "id": "b79f558b",
   "metadata": {},
   "outputs": [
    {
     "name": "stdout",
     "output_type": "stream",
     "text": [
      "Model: \"sequential\"\n",
      "_________________________________________________________________\n",
      " Layer (type)                Output Shape              Param #   \n",
      "=================================================================\n",
      " lstm (LSTM)                 (None, 150, 70)           20160     \n",
      "                                                                 \n",
      " lstm_1 (LSTM)               (None, 150, 60)           31440     \n",
      "                                                                 \n",
      " dropout (Dropout)           (None, 150, 60)           0         \n",
      "                                                                 \n",
      " lstm_2 (LSTM)               (None, 50)                22200     \n",
      "                                                                 \n",
      " dense (Dense)               (None, 1)                 51        \n",
      "                                                                 \n",
      "=================================================================\n",
      "Total params: 73,851\n",
      "Trainable params: 73,851\n",
      "Non-trainable params: 0\n",
      "_________________________________________________________________\n"
     ]
    }
   ],
   "source": [
    "model = Sequential()\n",
    "model.add(LSTM(70, return_sequences=True, input_shape=(150,1)))\n",
    "model.add(LSTM(60, return_sequences=True))\n",
    "model.add(Dropout(0.05)) #This will discard 5% of the neurons to prevent overfitting\n",
    "model.add(LSTM(50))\n",
    "model.add(Dense(1))\n",
    "model.compile(loss=\"mean_squared_error\", optimizer=\"adam\")\n",
    "model.summary()"
   ]
  },
  {
   "cell_type": "markdown",
   "id": "c4f45388",
   "metadata": {},
   "source": [
    "## Training Our Data"
   ]
  },
  {
   "cell_type": "code",
   "execution_count": 16,
   "id": "5a35edfe",
   "metadata": {},
   "outputs": [
    {
     "name": "stdout",
     "output_type": "stream",
     "text": [
      "Epoch 1/100\n",
      "20/20 [==============================] - 22s 712ms/step - loss: 0.0096 - val_loss: 0.0114\n",
      "Epoch 2/100\n",
      "20/20 [==============================] - 12s 583ms/step - loss: 0.0018 - val_loss: 0.0062\n",
      "Epoch 3/100\n",
      "20/20 [==============================] - 12s 589ms/step - loss: 9.6737e-04 - val_loss: 0.0039\n",
      "Epoch 4/100\n",
      "20/20 [==============================] - 11s 571ms/step - loss: 9.3146e-04 - val_loss: 0.0038\n",
      "Epoch 5/100\n",
      "20/20 [==============================] - 12s 582ms/step - loss: 9.0204e-04 - val_loss: 0.0033\n",
      "Epoch 6/100\n",
      "20/20 [==============================] - 11s 557ms/step - loss: 8.3626e-04 - val_loss: 0.0034\n",
      "Epoch 7/100\n",
      "20/20 [==============================] - 12s 587ms/step - loss: 7.9864e-04 - val_loss: 0.0036\n",
      "Epoch 8/100\n",
      "20/20 [==============================] - 12s 585ms/step - loss: 7.9066e-04 - val_loss: 0.0038\n",
      "Epoch 9/100\n",
      "20/20 [==============================] - 12s 579ms/step - loss: 7.7104e-04 - val_loss: 0.0037\n",
      "Epoch 10/100\n",
      "20/20 [==============================] - 12s 581ms/step - loss: 7.5996e-04 - val_loss: 0.0046\n",
      "Epoch 11/100\n",
      "20/20 [==============================] - 12s 585ms/step - loss: 7.7959e-04 - val_loss: 0.0032\n",
      "Epoch 12/100\n",
      "20/20 [==============================] - 11s 577ms/step - loss: 6.9817e-04 - val_loss: 0.0033\n",
      "Epoch 13/100\n",
      "20/20 [==============================] - 12s 591ms/step - loss: 7.0328e-04 - val_loss: 0.0061\n",
      "Epoch 14/100\n",
      "20/20 [==============================] - 11s 543ms/step - loss: 6.4970e-04 - val_loss: 0.0067\n",
      "Epoch 15/100\n",
      "20/20 [==============================] - 11s 565ms/step - loss: 6.3341e-04 - val_loss: 0.0049\n",
      "Epoch 16/100\n",
      "20/20 [==============================] - 12s 590ms/step - loss: 6.0958e-04 - val_loss: 0.0081\n",
      "Epoch 17/100\n",
      "20/20 [==============================] - 12s 582ms/step - loss: 6.1476e-04 - val_loss: 0.0096\n",
      "Epoch 18/100\n",
      "20/20 [==============================] - 12s 594ms/step - loss: 5.7661e-04 - val_loss: 0.0088\n",
      "Epoch 19/100\n",
      "20/20 [==============================] - 11s 562ms/step - loss: 5.5610e-04 - val_loss: 0.0087\n",
      "Epoch 20/100\n",
      "20/20 [==============================] - 12s 590ms/step - loss: 5.4924e-04 - val_loss: 0.0075\n",
      "Epoch 21/100\n",
      "20/20 [==============================] - 12s 590ms/step - loss: 5.3688e-04 - val_loss: 0.0088\n",
      "Epoch 22/100\n",
      "20/20 [==============================] - 11s 555ms/step - loss: 5.8478e-04 - val_loss: 0.0070\n",
      "Epoch 23/100\n",
      "20/20 [==============================] - 12s 583ms/step - loss: 5.2675e-04 - val_loss: 0.0066\n",
      "Epoch 24/100\n",
      "20/20 [==============================] - 12s 586ms/step - loss: 5.1488e-04 - val_loss: 0.0061\n",
      "Epoch 25/100\n",
      "20/20 [==============================] - 11s 572ms/step - loss: 4.6716e-04 - val_loss: 0.0068\n",
      "Epoch 26/100\n",
      "20/20 [==============================] - 12s 580ms/step - loss: 4.5384e-04 - val_loss: 0.0059\n",
      "Epoch 27/100\n",
      "20/20 [==============================] - 11s 580ms/step - loss: 4.4190e-04 - val_loss: 0.0065\n",
      "Epoch 28/100\n",
      "20/20 [==============================] - 11s 549ms/step - loss: 4.6428e-04 - val_loss: 0.0031\n",
      "Epoch 29/100\n",
      "20/20 [==============================] - 12s 592ms/step - loss: 4.8253e-04 - val_loss: 0.0056\n",
      "Epoch 30/100\n",
      "20/20 [==============================] - 12s 589ms/step - loss: 4.5825e-04 - val_loss: 0.0035\n",
      "Epoch 31/100\n",
      "20/20 [==============================] - 11s 563ms/step - loss: 4.1181e-04 - val_loss: 0.0080\n",
      "Epoch 32/100\n",
      "20/20 [==============================] - 12s 586ms/step - loss: 4.1199e-04 - val_loss: 0.0051\n",
      "Epoch 33/100\n",
      "20/20 [==============================] - 11s 554ms/step - loss: 3.6975e-04 - val_loss: 0.0054\n",
      "Epoch 34/100\n",
      "20/20 [==============================] - 10s 490ms/step - loss: 3.7684e-04 - val_loss: 0.0018\n",
      "Epoch 35/100\n",
      "20/20 [==============================] - 10s 498ms/step - loss: 3.6367e-04 - val_loss: 0.0021\n",
      "Epoch 36/100\n",
      "20/20 [==============================] - 10s 481ms/step - loss: 3.4958e-04 - val_loss: 0.0034\n",
      "Epoch 37/100\n",
      "20/20 [==============================] - 9s 475ms/step - loss: 3.5052e-04 - val_loss: 0.0020\n",
      "Epoch 38/100\n",
      "20/20 [==============================] - 8s 419ms/step - loss: 3.6118e-04 - val_loss: 0.0063\n",
      "Epoch 39/100\n",
      "20/20 [==============================] - 9s 460ms/step - loss: 3.4342e-04 - val_loss: 0.0038\n",
      "Epoch 40/100\n",
      "20/20 [==============================] - 10s 511ms/step - loss: 2.9767e-04 - val_loss: 0.0022\n",
      "Epoch 41/100\n",
      "20/20 [==============================] - 10s 520ms/step - loss: 3.0579e-04 - val_loss: 0.0019\n",
      "Epoch 42/100\n",
      "20/20 [==============================] - 10s 508ms/step - loss: 2.9563e-04 - val_loss: 0.0026\n",
      "Epoch 43/100\n",
      "20/20 [==============================] - 10s 524ms/step - loss: 2.9466e-04 - val_loss: 9.9782e-04\n",
      "Epoch 44/100\n",
      "20/20 [==============================] - 11s 532ms/step - loss: 2.9416e-04 - val_loss: 0.0022\n",
      "Epoch 45/100\n",
      "20/20 [==============================] - 10s 503ms/step - loss: 2.5554e-04 - val_loss: 0.0014\n",
      "Epoch 46/100\n",
      "20/20 [==============================] - 10s 477ms/step - loss: 2.8905e-04 - val_loss: 0.0034\n",
      "Epoch 47/100\n",
      "20/20 [==============================] - 11s 536ms/step - loss: 2.4152e-04 - val_loss: 0.0020\n",
      "Epoch 48/100\n",
      "20/20 [==============================] - 11s 564ms/step - loss: 2.4445e-04 - val_loss: 0.0022\n",
      "Epoch 49/100\n",
      "20/20 [==============================] - 11s 574ms/step - loss: 2.3084e-04 - val_loss: 0.0019\n",
      "Epoch 50/100\n",
      "20/20 [==============================] - 11s 550ms/step - loss: 2.3344e-04 - val_loss: 0.0022\n",
      "Epoch 51/100\n",
      "20/20 [==============================] - 11s 558ms/step - loss: 2.3066e-04 - val_loss: 0.0019\n",
      "Epoch 52/100\n",
      "20/20 [==============================] - 11s 574ms/step - loss: 2.4126e-04 - val_loss: 0.0030\n",
      "Epoch 53/100\n",
      "20/20 [==============================] - 11s 570ms/step - loss: 2.4440e-04 - val_loss: 0.0029\n",
      "Epoch 54/100\n",
      "20/20 [==============================] - 11s 546ms/step - loss: 2.2328e-04 - val_loss: 0.0022\n",
      "Epoch 55/100\n",
      "20/20 [==============================] - 11s 539ms/step - loss: 2.2249e-04 - val_loss: 0.0018\n",
      "Epoch 56/100\n",
      "20/20 [==============================] - 10s 527ms/step - loss: 2.0671e-04 - val_loss: 0.0016\n",
      "Epoch 57/100\n",
      "20/20 [==============================] - 11s 572ms/step - loss: 2.1379e-04 - val_loss: 0.0017\n",
      "Epoch 58/100\n",
      "20/20 [==============================] - 10s 515ms/step - loss: 2.0692e-04 - val_loss: 0.0022\n",
      "Epoch 59/100\n",
      "20/20 [==============================] - 10s 509ms/step - loss: 2.0602e-04 - val_loss: 0.0025\n",
      "Epoch 60/100\n",
      "20/20 [==============================] - 11s 546ms/step - loss: 2.2336e-04 - val_loss: 0.0020\n",
      "Epoch 61/100\n",
      "20/20 [==============================] - 10s 527ms/step - loss: 1.9825e-04 - val_loss: 0.0017\n",
      "Epoch 62/100\n",
      "20/20 [==============================] - 11s 535ms/step - loss: 1.7928e-04 - val_loss: 0.0012\n",
      "Epoch 63/100\n",
      "20/20 [==============================] - 10s 516ms/step - loss: 1.7736e-04 - val_loss: 0.0015\n",
      "Epoch 64/100\n",
      "20/20 [==============================] - 10s 514ms/step - loss: 1.8547e-04 - val_loss: 8.7534e-04\n",
      "Epoch 65/100\n",
      "20/20 [==============================] - 10s 497ms/step - loss: 1.8354e-04 - val_loss: 0.0013\n",
      "Epoch 66/100\n",
      "20/20 [==============================] - 11s 545ms/step - loss: 1.8236e-04 - val_loss: 0.0011\n",
      "Epoch 67/100\n",
      "20/20 [==============================] - 11s 572ms/step - loss: 1.8091e-04 - val_loss: 7.5933e-04\n",
      "Epoch 68/100\n",
      "20/20 [==============================] - 11s 578ms/step - loss: 1.6934e-04 - val_loss: 0.0022\n",
      "Epoch 69/100\n",
      "20/20 [==============================] - 11s 571ms/step - loss: 1.8404e-04 - val_loss: 6.8961e-04\n",
      "Epoch 70/100\n",
      "20/20 [==============================] - 11s 566ms/step - loss: 1.6533e-04 - val_loss: 0.0013\n",
      "Epoch 71/100\n",
      "20/20 [==============================] - 11s 576ms/step - loss: 1.6953e-04 - val_loss: 8.9979e-04\n",
      "Epoch 72/100\n",
      "20/20 [==============================] - 11s 556ms/step - loss: 1.7555e-04 - val_loss: 6.6262e-04\n",
      "Epoch 73/100\n",
      "20/20 [==============================] - 11s 567ms/step - loss: 1.6228e-04 - val_loss: 6.7271e-04\n",
      "Epoch 74/100\n",
      "20/20 [==============================] - 11s 570ms/step - loss: 1.7003e-04 - val_loss: 0.0016\n",
      "Epoch 75/100\n",
      "20/20 [==============================] - 11s 577ms/step - loss: 1.7136e-04 - val_loss: 4.9540e-04\n",
      "Epoch 76/100\n",
      "20/20 [==============================] - 11s 575ms/step - loss: 1.8936e-04 - val_loss: 0.0012\n",
      "Epoch 77/100\n"
     ]
    },
    {
     "name": "stdout",
     "output_type": "stream",
     "text": [
      "20/20 [==============================] - 11s 575ms/step - loss: 1.6710e-04 - val_loss: 0.0010\n",
      "Epoch 78/100\n",
      "20/20 [==============================] - 11s 569ms/step - loss: 1.6903e-04 - val_loss: 9.7566e-04\n",
      "Epoch 79/100\n",
      "20/20 [==============================] - 11s 577ms/step - loss: 1.5223e-04 - val_loss: 0.0013\n",
      "Epoch 80/100\n",
      "20/20 [==============================] - 11s 576ms/step - loss: 1.6593e-04 - val_loss: 8.1712e-04\n",
      "Epoch 81/100\n",
      "20/20 [==============================] - 11s 563ms/step - loss: 1.5129e-04 - val_loss: 0.0015\n",
      "Epoch 82/100\n",
      "20/20 [==============================] - 11s 564ms/step - loss: 1.7596e-04 - val_loss: 0.0012\n",
      "Epoch 83/100\n",
      "20/20 [==============================] - 11s 559ms/step - loss: 1.6763e-04 - val_loss: 0.0020\n",
      "Epoch 84/100\n",
      "20/20 [==============================] - 11s 564ms/step - loss: 1.5274e-04 - val_loss: 5.6524e-04\n",
      "Epoch 85/100\n",
      "20/20 [==============================] - 10s 530ms/step - loss: 1.6030e-04 - val_loss: 0.0010\n",
      "Epoch 86/100\n",
      "20/20 [==============================] - 11s 564ms/step - loss: 1.5343e-04 - val_loss: 0.0017\n",
      "Epoch 87/100\n",
      "20/20 [==============================] - 11s 564ms/step - loss: 1.6165e-04 - val_loss: 0.0021\n",
      "Epoch 88/100\n",
      "20/20 [==============================] - 11s 568ms/step - loss: 1.5860e-04 - val_loss: 0.0017\n",
      "Epoch 89/100\n",
      "20/20 [==============================] - 11s 573ms/step - loss: 1.4678e-04 - val_loss: 7.8409e-04\n",
      "Epoch 90/100\n",
      "20/20 [==============================] - 11s 564ms/step - loss: 1.7318e-04 - val_loss: 0.0021\n",
      "Epoch 91/100\n",
      "20/20 [==============================] - 11s 569ms/step - loss: 1.5908e-04 - val_loss: 0.0014\n",
      "Epoch 92/100\n",
      "20/20 [==============================] - 11s 567ms/step - loss: 1.5405e-04 - val_loss: 0.0022\n",
      "Epoch 93/100\n",
      "20/20 [==============================] - 11s 569ms/step - loss: 1.7246e-04 - val_loss: 8.8426e-04\n",
      "Epoch 94/100\n",
      "20/20 [==============================] - 11s 567ms/step - loss: 1.9378e-04 - val_loss: 6.4220e-04\n",
      "Epoch 95/100\n",
      "20/20 [==============================] - 11s 570ms/step - loss: 1.9173e-04 - val_loss: 9.2552e-04\n",
      "Epoch 96/100\n",
      "20/20 [==============================] - 11s 566ms/step - loss: 1.5494e-04 - val_loss: 0.0017\n",
      "Epoch 97/100\n",
      "20/20 [==============================] - 11s 565ms/step - loss: 1.5490e-04 - val_loss: 0.0015\n",
      "Epoch 98/100\n",
      "20/20 [==============================] - 11s 568ms/step - loss: 1.4948e-04 - val_loss: 0.0016\n",
      "Epoch 99/100\n",
      "20/20 [==============================] - 11s 566ms/step - loss: 1.4865e-04 - val_loss: 0.0022\n",
      "Epoch 100/100\n",
      "20/20 [==============================] - 11s 566ms/step - loss: 1.7933e-04 - val_loss: 0.0016\n"
     ]
    },
    {
     "data": {
      "text/plain": [
       "<keras.callbacks.History at 0x2290d59e220>"
      ]
     },
     "execution_count": 16,
     "metadata": {},
     "output_type": "execute_result"
    }
   ],
   "source": [
    "model.fit(xTrain, yTrain, validation_data=(xTest, yTest), epochs=100, batch_size=64, verbose=1)"
   ]
  },
  {
   "cell_type": "markdown",
   "id": "58547fa1",
   "metadata": {},
   "source": [
    "## Predicting on Train and Test data"
   ]
  },
  {
   "cell_type": "code",
   "execution_count": 17,
   "id": "fb97343e",
   "metadata": {},
   "outputs": [],
   "source": [
    "trainPred = model.predict(xTrain)\n",
    "testPred = model.predict(xTest)"
   ]
  },
  {
   "cell_type": "markdown",
   "id": "d055ea14",
   "metadata": {},
   "source": [
    "The above prediction is in the scaled form which we need to convert into original form."
   ]
  },
  {
   "cell_type": "code",
   "execution_count": 18,
   "id": "1d3f1e33",
   "metadata": {},
   "outputs": [],
   "source": [
    "trainPred = scaler.inverse_transform(trainPred)\n",
    "testPred = scaler.inverse_transform(testPred)"
   ]
  },
  {
   "cell_type": "markdown",
   "id": "23b79c3e",
   "metadata": {},
   "source": [
    "We will now calculate root mean squared error on our predicted data and actual data"
   ]
  },
  {
   "cell_type": "code",
   "execution_count": 19,
   "id": "ea36e47f",
   "metadata": {},
   "outputs": [
    {
     "name": "stdout",
     "output_type": "stream",
     "text": [
      "Train Rmse:  133.89060867351674  Test Rmse:  212.41988890749053\n"
     ]
    }
   ],
   "source": [
    "from sklearn.metrics import mean_squared_error\n",
    "import math\n",
    "rmseTrain = math.sqrt(mean_squared_error(yTrain,trainPred))\n",
    "rmseTest = math.sqrt(mean_squared_error(yTest,testPred))\n",
    "print(\"Train Rmse: \",rmseTrain,\" Test Rmse: \",rmseTest)"
   ]
  },
  {
   "cell_type": "markdown",
   "id": "8f39f05a",
   "metadata": {},
   "source": [
    "## Plotting the predictions"
   ]
  },
  {
   "cell_type": "code",
   "execution_count": 20,
   "id": "a70dfe03",
   "metadata": {},
   "outputs": [
    {
     "data": {
      "text/plain": [
       "[<matplotlib.lines.Line2D at 0x2291649ab80>]"
      ]
     },
     "execution_count": 20,
     "metadata": {},
     "output_type": "execute_result"
    },
    {
     "data": {
      "image/png": "[encoded data removed]",
      "text/plain": [
       "<Figure size 936x504 with 1 Axes>"
      ]
     },
     "metadata": {
      "needs_background": "light"
     },
     "output_type": "display_data"
    }
   ],
   "source": [
    "#Shifting predicted train data for plotting\n",
    "trainPredPlt = np.empty_like(dataClose)\n",
    "trainPredPlt[:,:] = np.nan\n",
    "trainPredPlt[150:len(trainPred)+150,:] = trainPred\n",
    "\n",
    "#Shifting predicted test data for plotting\n",
    "testPredPlt = np.empty_like(dataClose)\n",
    "testPredPlt[:,:] = np.nan\n",
    "testPredPlt[300+len(trainPred)+1:len(dataClose)-1,:] = testPred\n",
    "\n",
    "plt.figure(figsize=(13,7))\n",
    "plt.plot(dataAsc['Close'])\n",
    "plt.plot(trainPredPlt)\n",
    "plt.plot(testPredPlt)"
   ]
  },
  {
   "cell_type": "markdown",
   "id": "6859c982",
   "metadata": {},
   "source": [
    "We can see our predicted data on trained data and test data on the original data are pretty close. This shows that our stacked LSTM model is performing well."
   ]
  },
  {
   "cell_type": "markdown",
   "id": "9b25f246",
   "metadata": {},
   "source": [
    "## Let us predict the closing price for the next day"
   ]
  },
  {
   "cell_type": "code",
   "execution_count": 21,
   "id": "0fae9c05",
   "metadata": {},
   "outputs": [
    {
     "data": {
      "text/plain": [
       "(2035, 1)"
      ]
     },
     "execution_count": 21,
     "metadata": {},
     "output_type": "execute_result"
    }
   ],
   "source": [
    "dataClose.shape"
   ]
  },
  {
   "cell_type": "code",
   "execution_count": 26,
   "id": "de7edeb5",
   "metadata": {},
   "outputs": [
    {
     "data": {
      "text/plain": [
       "(150,)"
      ]
     },
     "execution_count": 26,
     "metadata": {},
     "output_type": "execute_result"
    }
   ],
   "source": [
    "futTrain = np.array(dataClose[1886:,:])\n",
    "futTrain = np.append(futTrain,0)\n",
    "futTrain.shape"
   ]
  },
  {
   "cell_type": "code",
   "execution_count": 27,
   "id": "57f32153",
   "metadata": {},
   "outputs": [
    {
     "data": {
      "text/plain": [
       "(1, 150, 1)"
      ]
     },
     "execution_count": 27,
     "metadata": {},
     "output_type": "execute_result"
    }
   ],
   "source": [
    "futTrain = futTrain.reshape(1,futTrain.shape[0],1)\n",
    "futTrain.shape"
   ]
  },
  {
   "cell_type": "code",
   "execution_count": 28,
   "id": "8fb6b133",
   "metadata": {},
   "outputs": [],
   "source": [
    "futPred = model.predict(futTrain)"
   ]
  },
  {
   "cell_type": "code",
   "execution_count": 29,
   "id": "a5fde50d",
   "metadata": {},
   "outputs": [
    {
     "data": {
      "text/plain": [
       "array([[90.19621]], dtype=float32)"
      ]
     },
     "execution_count": 29,
     "metadata": {},
     "output_type": "execute_result"
    }
   ],
   "source": [
    "futPred = scaler.inverse_transform(futPred)\n",
    "futPred"
   ]
  },
  {
   "cell_type": "markdown",
   "id": "f592b60b",
   "metadata": {},
   "source": [
    "Here We can see the closing price for next day is 90.196. In this way we can predict the data for future using Stacked LSTM Model."
   ]
  },
  {
   "cell_type": "markdown",
   "id": "3acc638f",
   "metadata": {},
   "source": [
    "## -By Hritik\n",
    "\n",
    "# Thank You!"
   ]
  }
 ],
 "metadata": {
  "kernelspec": {
   "display_name": "Python 3 (ipykernel)",
   "language": "python",
   "name": "python3"
  },
  "language_info": {
   "codemirror_mode": {
    "name": "ipython",
    "version": 3
   },
   "file_extension": ".py",
   "mimetype": "text/x-python",
   "name": "python",
   "nbconvert_exporter": "python",
   "pygments_lexer": "ipython3",
   "version": "3.9.7"
  }
 },
 "nbformat": 4,
 "nbformat_minor": 5
}
